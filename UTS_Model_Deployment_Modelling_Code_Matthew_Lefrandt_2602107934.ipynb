{
  "nbformat": 4,
  "nbformat_minor": 0,
  "metadata": {
    "colab": {
      "provenance": []
    },
    "kernelspec": {
      "name": "python3",
      "display_name": "Python 3"
    },
    "language_info": {
      "name": "python"
    }
  },
  "cells": [
    {
      "cell_type": "markdown",
      "source": [
        "**Problem Statement**\n",
        "\n",
        "Sebuah Bank sedang menghadapi permasalahan dimana sejumlah customer meninggalkan bank tersebut. Terdapat sebuah dataset 10000 nasabah bank yang diharapkan dapat menjadi pencerahan akan alasan mereka meinggalkan bank tersebut. Sebagai seorang Data Scientist kami diminta untuk menganalisis pola, serta membangun model prediktif untuk mengidentifikasi pelanggan yang mungkin akan meninggalkan bank. Dengan demikian, bank berharap dapat mengurangi tingkat churn dan meningkatkan kepuasan pelanggan.\n",
        "\n",
        "Adapun beberapa variabel yang ada didalam dataset berupa :\n",
        "1. RowNumber        : Nomor baris\n",
        "2. CustomerId       : ID Nasabah\n",
        "3. Surname          : Nama Belakang Nasabah\n",
        "4. CreditScore      : Skor Kredit Nasabah\n",
        "5. Geography        : Lokasi Nasabah\n",
        "6. Gender           : Jenis Kelamin Nasabah\n",
        "7. Age              : Usia Nasabah\n",
        "8. Tenure           : Lama Menjadi Nasabah\n",
        "9. Balance          : Saldo Nasabah\n",
        "10. NumOfProducts   : Jumlah Produk yang Dimiliki\n",
        "11. HasCrCard       : Memiliki Kartu Kredit\n",
        "12. IsActiveMember  : Member Aktif Bank\n",
        "13. EstimatedSalary : Perkiraan Gaji Nasabah\n",
        "14. Exited          : Meninggalkan Bank\n",
        "\n",
        "Untuk mencapai tujuan tersebut, Data Scientist harus bisa membuat sebuah algoritma untuk memprediksi apakah seorang nasabah berpotensi untuk meninggalkan bank berdasarkan sejumlah data mereka seperti skor kredit, lokasi, gender, umur, saldo, gaji, dan lain-lain. Berdasarkan inputan tersebut mesin harus dapat memprediksi apakah nasabah tersebut akan meninggalkan bank. Berdasarkan output tersebut, dapat dikatakan bahwa problem dari case ini adalah **Binary Classification** dimana hanya terdapat 1 label yang kemungkinan value nya adalah Binary (2 kemungkinan)."
      ],
      "metadata": {
        "id": "N6wU9KEfkX1z"
      }
    },
    {
      "cell_type": "markdown",
      "source": [
        "**Import Dataset**"
      ],
      "metadata": {
        "id": "o_9UqLf5kiWk"
      }
    },
    {
      "cell_type": "code",
      "source": [
        "import numpy as np\n",
        "import pandas as pd\n",
        "import matplotlib.pyplot as plt\n",
        "import warnings\n",
        "warnings.filterwarnings('ignore')"
      ],
      "metadata": {
        "id": "tigugCYjkul5"
      },
      "execution_count": null,
      "outputs": []
    },
    {
      "cell_type": "code",
      "source": [
        "df=pd.read_csv('data_C.csv')\n",
        "df.head()"
      ],
      "metadata": {
        "colab": {
          "base_uri": "https://localhost:8080/",
          "height": 243
        },
        "id": "SqxinquXkdVX",
        "outputId": "af9a85d5-6a46-4185-ac06-b562b625d364"
      },
      "execution_count": null,
      "outputs": [
        {
          "output_type": "execute_result",
          "data": {
            "text/plain": [
              "   Unnamed: 0      id  CustomerId       Surname  CreditScore Geography  \\\n",
              "0           0  157138    15638646     Chinweike        628.0     Spain   \n",
              "1           1  116144    15695825      Onwumelu        710.0     Spain   \n",
              "2           2  145603    15592765         Marks        663.0    France   \n",
              "3           3   79929    15807525  Onyemachukwu        644.0     Spain   \n",
              "4           4   52554    15611551          Hill        627.0     Spain   \n",
              "\n",
              "   Gender   Age  Tenure    Balance  NumOfProducts  HasCrCard  IsActiveMember  \\\n",
              "0  Female  50.0       4  160133.08              1          1               1   \n",
              "1    Male  34.0       8       0.00              2          1               1   \n",
              "2  Female  23.0       8  125470.81              1          1               1   \n",
              "3    Male  45.0       8       0.00              2          0               1   \n",
              "4    Male  23.0       5       0.00              2          1               0   \n",
              "\n",
              "   EstimatedSalary  churn  \n",
              "0           653.53      0  \n",
              "1         72993.73      0  \n",
              "2        174536.17      0  \n",
              "3         28690.90      0  \n",
              "4        134483.07      0  "
            ],
            "text/html": [
              "\n",
              "  <div id=\"df-96f9076d-d20a-452a-91f1-3c97f95929e1\" class=\"colab-df-container\">\n",
              "    <div>\n",
              "<style scoped>\n",
              "    .dataframe tbody tr th:only-of-type {\n",
              "        vertical-align: middle;\n",
              "    }\n",
              "\n",
              "    .dataframe tbody tr th {\n",
              "        vertical-align: top;\n",
              "    }\n",
              "\n",
              "    .dataframe thead th {\n",
              "        text-align: right;\n",
              "    }\n",
              "</style>\n",
              "<table border=\"1\" class=\"dataframe\">\n",
              "  <thead>\n",
              "    <tr style=\"text-align: right;\">\n",
              "      <th></th>\n",
              "      <th>Unnamed: 0</th>\n",
              "      <th>id</th>\n",
              "      <th>CustomerId</th>\n",
              "      <th>Surname</th>\n",
              "      <th>CreditScore</th>\n",
              "      <th>Geography</th>\n",
              "      <th>Gender</th>\n",
              "      <th>Age</th>\n",
              "      <th>Tenure</th>\n",
              "      <th>Balance</th>\n",
              "      <th>NumOfProducts</th>\n",
              "      <th>HasCrCard</th>\n",
              "      <th>IsActiveMember</th>\n",
              "      <th>EstimatedSalary</th>\n",
              "      <th>churn</th>\n",
              "    </tr>\n",
              "  </thead>\n",
              "  <tbody>\n",
              "    <tr>\n",
              "      <th>0</th>\n",
              "      <td>0</td>\n",
              "      <td>157138</td>\n",
              "      <td>15638646</td>\n",
              "      <td>Chinweike</td>\n",
              "      <td>628.0</td>\n",
              "      <td>Spain</td>\n",
              "      <td>Female</td>\n",
              "      <td>50.0</td>\n",
              "      <td>4</td>\n",
              "      <td>160133.08</td>\n",
              "      <td>1</td>\n",
              "      <td>1</td>\n",
              "      <td>1</td>\n",
              "      <td>653.53</td>\n",
              "      <td>0</td>\n",
              "    </tr>\n",
              "    <tr>\n",
              "      <th>1</th>\n",
              "      <td>1</td>\n",
              "      <td>116144</td>\n",
              "      <td>15695825</td>\n",
              "      <td>Onwumelu</td>\n",
              "      <td>710.0</td>\n",
              "      <td>Spain</td>\n",
              "      <td>Male</td>\n",
              "      <td>34.0</td>\n",
              "      <td>8</td>\n",
              "      <td>0.00</td>\n",
              "      <td>2</td>\n",
              "      <td>1</td>\n",
              "      <td>1</td>\n",
              "      <td>72993.73</td>\n",
              "      <td>0</td>\n",
              "    </tr>\n",
              "    <tr>\n",
              "      <th>2</th>\n",
              "      <td>2</td>\n",
              "      <td>145603</td>\n",
              "      <td>15592765</td>\n",
              "      <td>Marks</td>\n",
              "      <td>663.0</td>\n",
              "      <td>France</td>\n",
              "      <td>Female</td>\n",
              "      <td>23.0</td>\n",
              "      <td>8</td>\n",
              "      <td>125470.81</td>\n",
              "      <td>1</td>\n",
              "      <td>1</td>\n",
              "      <td>1</td>\n",
              "      <td>174536.17</td>\n",
              "      <td>0</td>\n",
              "    </tr>\n",
              "    <tr>\n",
              "      <th>3</th>\n",
              "      <td>3</td>\n",
              "      <td>79929</td>\n",
              "      <td>15807525</td>\n",
              "      <td>Onyemachukwu</td>\n",
              "      <td>644.0</td>\n",
              "      <td>Spain</td>\n",
              "      <td>Male</td>\n",
              "      <td>45.0</td>\n",
              "      <td>8</td>\n",
              "      <td>0.00</td>\n",
              "      <td>2</td>\n",
              "      <td>0</td>\n",
              "      <td>1</td>\n",
              "      <td>28690.90</td>\n",
              "      <td>0</td>\n",
              "    </tr>\n",
              "    <tr>\n",
              "      <th>4</th>\n",
              "      <td>4</td>\n",
              "      <td>52554</td>\n",
              "      <td>15611551</td>\n",
              "      <td>Hill</td>\n",
              "      <td>627.0</td>\n",
              "      <td>Spain</td>\n",
              "      <td>Male</td>\n",
              "      <td>23.0</td>\n",
              "      <td>5</td>\n",
              "      <td>0.00</td>\n",
              "      <td>2</td>\n",
              "      <td>1</td>\n",
              "      <td>0</td>\n",
              "      <td>134483.07</td>\n",
              "      <td>0</td>\n",
              "    </tr>\n",
              "  </tbody>\n",
              "</table>\n",
              "</div>\n",
              "    <div class=\"colab-df-buttons\">\n",
              "\n",
              "  <div class=\"colab-df-container\">\n",
              "    <button class=\"colab-df-convert\" onclick=\"convertToInteractive('df-96f9076d-d20a-452a-91f1-3c97f95929e1')\"\n",
              "            title=\"Convert this dataframe to an interactive table.\"\n",
              "            style=\"display:none;\">\n",
              "\n",
              "  <svg xmlns=\"http://www.w3.org/2000/svg\" height=\"24px\" viewBox=\"0 -960 960 960\">\n",
              "    <path d=\"M120-120v-720h720v720H120Zm60-500h600v-160H180v160Zm220 220h160v-160H400v160Zm0 220h160v-160H400v160ZM180-400h160v-160H180v160Zm440 0h160v-160H620v160ZM180-180h160v-160H180v160Zm440 0h160v-160H620v160Z\"/>\n",
              "  </svg>\n",
              "    </button>\n",
              "\n",
              "  <style>\n",
              "    .colab-df-container {\n",
              "      display:flex;\n",
              "      gap: 12px;\n",
              "    }\n",
              "\n",
              "    .colab-df-convert {\n",
              "      background-color: #E8F0FE;\n",
              "      border: none;\n",
              "      border-radius: 50%;\n",
              "      cursor: pointer;\n",
              "      display: none;\n",
              "      fill: #1967D2;\n",
              "      height: 32px;\n",
              "      padding: 0 0 0 0;\n",
              "      width: 32px;\n",
              "    }\n",
              "\n",
              "    .colab-df-convert:hover {\n",
              "      background-color: #E2EBFA;\n",
              "      box-shadow: 0px 1px 2px rgba(60, 64, 67, 0.3), 0px 1px 3px 1px rgba(60, 64, 67, 0.15);\n",
              "      fill: #174EA6;\n",
              "    }\n",
              "\n",
              "    .colab-df-buttons div {\n",
              "      margin-bottom: 4px;\n",
              "    }\n",
              "\n",
              "    [theme=dark] .colab-df-convert {\n",
              "      background-color: #3B4455;\n",
              "      fill: #D2E3FC;\n",
              "    }\n",
              "\n",
              "    [theme=dark] .colab-df-convert:hover {\n",
              "      background-color: #434B5C;\n",
              "      box-shadow: 0px 1px 3px 1px rgba(0, 0, 0, 0.15);\n",
              "      filter: drop-shadow(0px 1px 2px rgba(0, 0, 0, 0.3));\n",
              "      fill: #FFFFFF;\n",
              "    }\n",
              "  </style>\n",
              "\n",
              "    <script>\n",
              "      const buttonEl =\n",
              "        document.querySelector('#df-96f9076d-d20a-452a-91f1-3c97f95929e1 button.colab-df-convert');\n",
              "      buttonEl.style.display =\n",
              "        google.colab.kernel.accessAllowed ? 'block' : 'none';\n",
              "\n",
              "      async function convertToInteractive(key) {\n",
              "        const element = document.querySelector('#df-96f9076d-d20a-452a-91f1-3c97f95929e1');\n",
              "        const dataTable =\n",
              "          await google.colab.kernel.invokeFunction('convertToInteractive',\n",
              "                                                    [key], {});\n",
              "        if (!dataTable) return;\n",
              "\n",
              "        const docLinkHtml = 'Like what you see? Visit the ' +\n",
              "          '<a target=\"_blank\" href=https://colab.research.google.com/notebooks/data_table.ipynb>data table notebook</a>'\n",
              "          + ' to learn more about interactive tables.';\n",
              "        element.innerHTML = '';\n",
              "        dataTable['output_type'] = 'display_data';\n",
              "        await google.colab.output.renderOutput(dataTable, element);\n",
              "        const docLink = document.createElement('div');\n",
              "        docLink.innerHTML = docLinkHtml;\n",
              "        element.appendChild(docLink);\n",
              "      }\n",
              "    </script>\n",
              "  </div>\n",
              "\n",
              "\n",
              "<div id=\"df-44c00fa6-1835-4da4-a460-e7a158c4f074\">\n",
              "  <button class=\"colab-df-quickchart\" onclick=\"quickchart('df-44c00fa6-1835-4da4-a460-e7a158c4f074')\"\n",
              "            title=\"Suggest charts\"\n",
              "            style=\"display:none;\">\n",
              "\n",
              "<svg xmlns=\"http://www.w3.org/2000/svg\" height=\"24px\"viewBox=\"0 0 24 24\"\n",
              "     width=\"24px\">\n",
              "    <g>\n",
              "        <path d=\"M19 3H5c-1.1 0-2 .9-2 2v14c0 1.1.9 2 2 2h14c1.1 0 2-.9 2-2V5c0-1.1-.9-2-2-2zM9 17H7v-7h2v7zm4 0h-2V7h2v10zm4 0h-2v-4h2v4z\"/>\n",
              "    </g>\n",
              "</svg>\n",
              "  </button>\n",
              "\n",
              "<style>\n",
              "  .colab-df-quickchart {\n",
              "      --bg-color: #E8F0FE;\n",
              "      --fill-color: #1967D2;\n",
              "      --hover-bg-color: #E2EBFA;\n",
              "      --hover-fill-color: #174EA6;\n",
              "      --disabled-fill-color: #AAA;\n",
              "      --disabled-bg-color: #DDD;\n",
              "  }\n",
              "\n",
              "  [theme=dark] .colab-df-quickchart {\n",
              "      --bg-color: #3B4455;\n",
              "      --fill-color: #D2E3FC;\n",
              "      --hover-bg-color: #434B5C;\n",
              "      --hover-fill-color: #FFFFFF;\n",
              "      --disabled-bg-color: #3B4455;\n",
              "      --disabled-fill-color: #666;\n",
              "  }\n",
              "\n",
              "  .colab-df-quickchart {\n",
              "    background-color: var(--bg-color);\n",
              "    border: none;\n",
              "    border-radius: 50%;\n",
              "    cursor: pointer;\n",
              "    display: none;\n",
              "    fill: var(--fill-color);\n",
              "    height: 32px;\n",
              "    padding: 0;\n",
              "    width: 32px;\n",
              "  }\n",
              "\n",
              "  .colab-df-quickchart:hover {\n",
              "    background-color: var(--hover-bg-color);\n",
              "    box-shadow: 0 1px 2px rgba(60, 64, 67, 0.3), 0 1px 3px 1px rgba(60, 64, 67, 0.15);\n",
              "    fill: var(--button-hover-fill-color);\n",
              "  }\n",
              "\n",
              "  .colab-df-quickchart-complete:disabled,\n",
              "  .colab-df-quickchart-complete:disabled:hover {\n",
              "    background-color: var(--disabled-bg-color);\n",
              "    fill: var(--disabled-fill-color);\n",
              "    box-shadow: none;\n",
              "  }\n",
              "\n",
              "  .colab-df-spinner {\n",
              "    border: 2px solid var(--fill-color);\n",
              "    border-color: transparent;\n",
              "    border-bottom-color: var(--fill-color);\n",
              "    animation:\n",
              "      spin 1s steps(1) infinite;\n",
              "  }\n",
              "\n",
              "  @keyframes spin {\n",
              "    0% {\n",
              "      border-color: transparent;\n",
              "      border-bottom-color: var(--fill-color);\n",
              "      border-left-color: var(--fill-color);\n",
              "    }\n",
              "    20% {\n",
              "      border-color: transparent;\n",
              "      border-left-color: var(--fill-color);\n",
              "      border-top-color: var(--fill-color);\n",
              "    }\n",
              "    30% {\n",
              "      border-color: transparent;\n",
              "      border-left-color: var(--fill-color);\n",
              "      border-top-color: var(--fill-color);\n",
              "      border-right-color: var(--fill-color);\n",
              "    }\n",
              "    40% {\n",
              "      border-color: transparent;\n",
              "      border-right-color: var(--fill-color);\n",
              "      border-top-color: var(--fill-color);\n",
              "    }\n",
              "    60% {\n",
              "      border-color: transparent;\n",
              "      border-right-color: var(--fill-color);\n",
              "    }\n",
              "    80% {\n",
              "      border-color: transparent;\n",
              "      border-right-color: var(--fill-color);\n",
              "      border-bottom-color: var(--fill-color);\n",
              "    }\n",
              "    90% {\n",
              "      border-color: transparent;\n",
              "      border-bottom-color: var(--fill-color);\n",
              "    }\n",
              "  }\n",
              "</style>\n",
              "\n",
              "  <script>\n",
              "    async function quickchart(key) {\n",
              "      const quickchartButtonEl =\n",
              "        document.querySelector('#' + key + ' button');\n",
              "      quickchartButtonEl.disabled = true;  // To prevent multiple clicks.\n",
              "      quickchartButtonEl.classList.add('colab-df-spinner');\n",
              "      try {\n",
              "        const charts = await google.colab.kernel.invokeFunction(\n",
              "            'suggestCharts', [key], {});\n",
              "      } catch (error) {\n",
              "        console.error('Error during call to suggestCharts:', error);\n",
              "      }\n",
              "      quickchartButtonEl.classList.remove('colab-df-spinner');\n",
              "      quickchartButtonEl.classList.add('colab-df-quickchart-complete');\n",
              "    }\n",
              "    (() => {\n",
              "      let quickchartButtonEl =\n",
              "        document.querySelector('#df-44c00fa6-1835-4da4-a460-e7a158c4f074 button');\n",
              "      quickchartButtonEl.style.display =\n",
              "        google.colab.kernel.accessAllowed ? 'block' : 'none';\n",
              "    })();\n",
              "  </script>\n",
              "</div>\n",
              "    </div>\n",
              "  </div>\n"
            ],
            "application/vnd.google.colaboratory.intrinsic+json": {
              "type": "dataframe",
              "variable_name": "df",
              "summary": "{\n  \"name\": \"df\",\n  \"rows\": 41258,\n  \"fields\": [\n    {\n      \"column\": \"Unnamed: 0\",\n      \"properties\": {\n        \"dtype\": \"number\",\n        \"std\": 11910,\n        \"min\": 0,\n        \"max\": 41257,\n        \"num_unique_values\": 41258,\n        \"samples\": [\n          22930,\n          4280,\n          40587\n        ],\n        \"semantic_type\": \"\",\n        \"description\": \"\"\n      }\n    },\n    {\n      \"column\": \"id\",\n      \"properties\": {\n        \"dtype\": \"number\",\n        \"std\": 47642,\n        \"min\": 1,\n        \"max\": 165032,\n        \"num_unique_values\": 41258,\n        \"samples\": [\n          152618,\n          68411,\n          32608\n        ],\n        \"semantic_type\": \"\",\n        \"description\": \"\"\n      }\n    },\n    {\n      \"column\": \"CustomerId\",\n      \"properties\": {\n        \"dtype\": \"number\",\n        \"std\": 71363,\n        \"min\": 15565701,\n        \"max\": 15815690,\n        \"num_unique_values\": 13212,\n        \"samples\": [\n          15775804,\n          15701166,\n          15752839\n        ],\n        \"semantic_type\": \"\",\n        \"description\": \"\"\n      }\n    },\n    {\n      \"column\": \"Surname\",\n      \"properties\": {\n        \"dtype\": \"category\",\n        \"num_unique_values\": 2272,\n        \"samples\": [\n          \"Onyekaozulu\",\n          \"Glenny\",\n          \"Molle\"\n        ],\n        \"semantic_type\": \"\",\n        \"description\": \"\"\n      }\n    },\n    {\n      \"column\": \"CreditScore\",\n      \"properties\": {\n        \"dtype\": \"number\",\n        \"std\": 79.73629763639165,\n        \"min\": 350.0,\n        \"max\": 850.0,\n        \"num_unique_values\": 444,\n        \"samples\": [\n          446.0,\n          815.0,\n          633.0\n        ],\n        \"semantic_type\": \"\",\n        \"description\": \"\"\n      }\n    },\n    {\n      \"column\": \"Geography\",\n      \"properties\": {\n        \"dtype\": \"category\",\n        \"num_unique_values\": 3,\n        \"samples\": [\n          \"Spain\",\n          \"France\",\n          \"Germany\"\n        ],\n        \"semantic_type\": \"\",\n        \"description\": \"\"\n      }\n    },\n    {\n      \"column\": \"Gender\",\n      \"properties\": {\n        \"dtype\": \"category\",\n        \"num_unique_values\": 2,\n        \"samples\": [\n          \"Male\",\n          \"Female\"\n        ],\n        \"semantic_type\": \"\",\n        \"description\": \"\"\n      }\n    },\n    {\n      \"column\": \"Age\",\n      \"properties\": {\n        \"dtype\": \"number\",\n        \"std\": 8.947665292837156,\n        \"min\": 18.0,\n        \"max\": 92.0,\n        \"num_unique_values\": 71,\n        \"samples\": [\n          59.0,\n          50.0\n        ],\n        \"semantic_type\": \"\",\n        \"description\": \"\"\n      }\n    },\n    {\n      \"column\": \"Tenure\",\n      \"properties\": {\n        \"dtype\": \"number\",\n        \"std\": 2,\n        \"min\": 0,\n        \"max\": 10,\n        \"num_unique_values\": 11,\n        \"samples\": [\n          3,\n          4\n        ],\n        \"semantic_type\": \"\",\n        \"description\": \"\"\n      }\n    },\n    {\n      \"column\": \"Balance\",\n      \"properties\": {\n        \"dtype\": \"number\",\n        \"std\": 62795.53095016127,\n        \"min\": 0.0,\n        \"max\": 238387.56,\n        \"num_unique_values\": 11410,\n        \"samples\": [\n          131151.09,\n          106854.21\n        ],\n        \"semantic_type\": \"\",\n        \"description\": \"\"\n      }\n    },\n    {\n      \"column\": \"NumOfProducts\",\n      \"properties\": {\n        \"dtype\": \"number\",\n        \"std\": 0,\n        \"min\": 1,\n        \"max\": 4,\n        \"num_unique_values\": 4,\n        \"samples\": [\n          2,\n          4\n        ],\n        \"semantic_type\": \"\",\n        \"description\": \"\"\n      }\n    },\n    {\n      \"column\": \"HasCrCard\",\n      \"properties\": {\n        \"dtype\": \"number\",\n        \"std\": 0,\n        \"min\": 0,\n        \"max\": 1,\n        \"num_unique_values\": 2,\n        \"samples\": [\n          0,\n          1\n        ],\n        \"semantic_type\": \"\",\n        \"description\": \"\"\n      }\n    },\n    {\n      \"column\": \"IsActiveMember\",\n      \"properties\": {\n        \"dtype\": \"number\",\n        \"std\": 0,\n        \"min\": 0,\n        \"max\": 1,\n        \"num_unique_values\": 2,\n        \"samples\": [\n          0,\n          1\n        ],\n        \"semantic_type\": \"\",\n        \"description\": \"\"\n      }\n    },\n    {\n      \"column\": \"EstimatedSalary\",\n      \"properties\": {\n        \"dtype\": \"number\",\n        \"std\": 50048.66666271447,\n        \"min\": 11.58,\n        \"max\": 199992.48,\n        \"num_unique_values\": 20841,\n        \"samples\": [\n          168066.94,\n          180329.74\n        ],\n        \"semantic_type\": \"\",\n        \"description\": \"\"\n      }\n    },\n    {\n      \"column\": \"churn\",\n      \"properties\": {\n        \"dtype\": \"number\",\n        \"std\": 0,\n        \"min\": 0,\n        \"max\": 1,\n        \"num_unique_values\": 2,\n        \"samples\": [\n          1,\n          0\n        ],\n        \"semantic_type\": \"\",\n        \"description\": \"\"\n      }\n    }\n  ]\n}"
            }
          },
          "metadata": {},
          "execution_count": 2
        }
      ]
    },
    {
      "cell_type": "markdown",
      "source": [
        "**Explore New Dataset**\n",
        "\n",
        "\n",
        "Dataset Churn_Modelling memiliki 41257 data dengan 15 variabel (termasuk input dan outputnya)"
      ],
      "metadata": {
        "id": "fKDNaDnYk1w5"
      }
    },
    {
      "cell_type": "code",
      "source": [
        "df.shape"
      ],
      "metadata": {
        "colab": {
          "base_uri": "https://localhost:8080/"
        },
        "id": "rOj-0TjLkdYG",
        "outputId": "77c72832-04b7-4658-8629-134df6837607"
      },
      "execution_count": null,
      "outputs": [
        {
          "output_type": "execute_result",
          "data": {
            "text/plain": [
              "(41258, 15)"
            ]
          },
          "metadata": {},
          "execution_count": 3
        }
      ]
    },
    {
      "cell_type": "code",
      "source": [
        "df.columns"
      ],
      "metadata": {
        "colab": {
          "base_uri": "https://localhost:8080/"
        },
        "id": "3-z3dh64kda0",
        "outputId": "4704f048-e1f1-4121-b616-d4a4eb162148"
      },
      "execution_count": null,
      "outputs": [
        {
          "output_type": "execute_result",
          "data": {
            "text/plain": [
              "Index(['Unnamed: 0', 'id', 'CustomerId', 'Surname', 'CreditScore', 'Geography',\n",
              "       'Gender', 'Age', 'Tenure', 'Balance', 'NumOfProducts', 'HasCrCard',\n",
              "       'IsActiveMember', 'EstimatedSalary', 'churn'],\n",
              "      dtype='object')"
            ]
          },
          "metadata": {},
          "execution_count": 4
        }
      ]
    },
    {
      "cell_type": "code",
      "source": [
        "df.info()"
      ],
      "metadata": {
        "colab": {
          "base_uri": "https://localhost:8080/"
        },
        "id": "Yfi7ZpVqkddn",
        "outputId": "e49f1bb7-0bc6-4cc1-99af-afdfc72227e0"
      },
      "execution_count": null,
      "outputs": [
        {
          "output_type": "stream",
          "name": "stdout",
          "text": [
            "<class 'pandas.core.frame.DataFrame'>\n",
            "RangeIndex: 41258 entries, 0 to 41257\n",
            "Data columns (total 15 columns):\n",
            " #   Column           Non-Null Count  Dtype  \n",
            "---  ------           --------------  -----  \n",
            " 0   Unnamed: 0       41258 non-null  int64  \n",
            " 1   id               41258 non-null  int64  \n",
            " 2   CustomerId       41258 non-null  int64  \n",
            " 3   Surname          41258 non-null  object \n",
            " 4   CreditScore      41246 non-null  float64\n",
            " 5   Geography        41258 non-null  object \n",
            " 6   Gender           41258 non-null  object \n",
            " 7   Age              41258 non-null  float64\n",
            " 8   Tenure           41258 non-null  int64  \n",
            " 9   Balance          41258 non-null  float64\n",
            " 10  NumOfProducts    41258 non-null  int64  \n",
            " 11  HasCrCard        41258 non-null  int64  \n",
            " 12  IsActiveMember   41258 non-null  int64  \n",
            " 13  EstimatedSalary  41258 non-null  float64\n",
            " 14  churn            41258 non-null  int64  \n",
            "dtypes: float64(4), int64(8), object(3)\n",
            "memory usage: 4.7+ MB\n"
          ]
        }
      ]
    },
    {
      "cell_type": "code",
      "source": [
        "#check data variation\n",
        "df.nunique()"
      ],
      "metadata": {
        "colab": {
          "base_uri": "https://localhost:8080/"
        },
        "id": "V1eQvgvIkdgU",
        "outputId": "fc95c712-9f95-4fd9-a5b5-67447f2e1d46"
      },
      "execution_count": null,
      "outputs": [
        {
          "output_type": "execute_result",
          "data": {
            "text/plain": [
              "Unnamed: 0         41258\n",
              "id                 41258\n",
              "CustomerId         13212\n",
              "Surname             2272\n",
              "CreditScore          444\n",
              "Geography              3\n",
              "Gender                 2\n",
              "Age                   71\n",
              "Tenure                11\n",
              "Balance            11410\n",
              "NumOfProducts          4\n",
              "HasCrCard              2\n",
              "IsActiveMember         2\n",
              "EstimatedSalary    20841\n",
              "churn                  2\n",
              "dtype: int64"
            ]
          },
          "metadata": {},
          "execution_count": 6
        }
      ]
    },
    {
      "cell_type": "markdown",
      "source": [
        "Terdapat 12 Missing value pada kolom 'CreditScore'. Hal ini berarti bahwa perlu dilakukan imputing value untuk data yang missing ini setelah proses splitting dataset"
      ],
      "metadata": {
        "id": "u9Q7_8RbIWkL"
      }
    },
    {
      "cell_type": "code",
      "source": [
        "#Check Missing Value\n",
        "df.isnull().sum()"
      ],
      "metadata": {
        "colab": {
          "base_uri": "https://localhost:8080/"
        },
        "id": "SNPgfOcMISek",
        "outputId": "90ae5653-7776-488f-cb65-1d06e80c5517"
      },
      "execution_count": null,
      "outputs": [
        {
          "output_type": "execute_result",
          "data": {
            "text/plain": [
              "Unnamed: 0          0\n",
              "id                  0\n",
              "CustomerId          0\n",
              "Surname             0\n",
              "CreditScore        12\n",
              "Geography           0\n",
              "Gender              0\n",
              "Age                 0\n",
              "Tenure              0\n",
              "Balance             0\n",
              "NumOfProducts       0\n",
              "HasCrCard           0\n",
              "IsActiveMember      0\n",
              "EstimatedSalary     0\n",
              "churn               0\n",
              "dtype: int64"
            ]
          },
          "metadata": {},
          "execution_count": 7
        }
      ]
    },
    {
      "cell_type": "markdown",
      "source": [
        "Terlihat bahwa terdapat imbalance data dimana data nasabah yang meninggalkan bank jauh lebih sedikit dimana data nasabah yang bertahan dengan perbandingan 1 : 4"
      ],
      "metadata": {
        "id": "_3W7LAMtx6xp"
      }
    },
    {
      "cell_type": "code",
      "source": [
        "df['churn'].value_counts()"
      ],
      "metadata": {
        "colab": {
          "base_uri": "https://localhost:8080/"
        },
        "id": "1am2AILUkdis",
        "outputId": "4afe77d9-8953-40cc-f167-cc9cc4c1b6cb"
      },
      "execution_count": null,
      "outputs": [
        {
          "output_type": "execute_result",
          "data": {
            "text/plain": [
              "churn\n",
              "0    32410\n",
              "1     8848\n",
              "Name: count, dtype: int64"
            ]
          },
          "metadata": {},
          "execution_count": 8
        }
      ]
    },
    {
      "cell_type": "code",
      "source": [
        "df.duplicated().sum()"
      ],
      "metadata": {
        "colab": {
          "base_uri": "https://localhost:8080/"
        },
        "id": "W2AHcOKekdlN",
        "outputId": "4eba95ac-2f54-45b7-e25b-f7380f1baa9f"
      },
      "execution_count": null,
      "outputs": [
        {
          "output_type": "execute_result",
          "data": {
            "text/plain": [
              "0"
            ]
          },
          "metadata": {},
          "execution_count": 9
        }
      ]
    },
    {
      "cell_type": "code",
      "source": [
        "# Membuat empat boxplot terpisah untuk setiap kolom\n",
        "plt.figure(figsize=(12, 8))\n",
        "\n",
        "# Boxplot untuk kolom 'Age'\n",
        "plt.subplot(2, 2, 1)\n",
        "plt.boxplot(df['Age'])\n",
        "plt.title('Boxplot Age')\n",
        "\n",
        "# Boxplot untuk kolom 'CreditScore'\n",
        "plt.subplot(2, 2, 2)\n",
        "plt.boxplot(df['CreditScore'])\n",
        "plt.title('Boxplot CreditScore')\n",
        "\n",
        "# Boxplot untuk kolom 'Balance'\n",
        "plt.subplot(2, 2, 3)\n",
        "plt.boxplot(df['Balance'])\n",
        "plt.title('Boxplot Balance')\n",
        "\n",
        "# Boxplot untuk kolom 'EstimatedSalary'\n",
        "plt.subplot(2, 2, 4)\n",
        "plt.boxplot(df['EstimatedSalary'])\n",
        "plt.title('Boxplot EstimatedSalary')\n",
        "\n",
        "plt.show()"
      ],
      "metadata": {
        "colab": {
          "base_uri": "https://localhost:8080/",
          "height": 699
        },
        "id": "nkL-ianykdoj",
        "outputId": "46e44f12-74ad-4a91-fb18-de1c7143e059"
      },
      "execution_count": null,
      "outputs": [
        {
          "output_type": "display_data",
          "data": {
            "text/plain": [
              "<Figure size 1200x800 with 4 Axes>"
            ],
            "image/png": "[encoded data removed]"
          },
          "metadata": {}
        }
      ]
    },
    {
      "cell_type": "markdown",
      "source": [
        "Untuk kolom Age terdapat beberapa nilai yang dianggap sebagai outliers yakni umur nasabah yang diatas 66 tahun (lansia). Pertanyaan berikutnya adalah apakah justru para lansia ini memiliki potensi yang besar untuk meninggalkan bank? Berdasarkan hasil pengecekan, ternyata sebagian besar lansia memilih untuk tetap menjadi nasabah bank dengan perbandingan 394 nasabah lansia yang menetap dibandingkan dengan 91 nasabah lansia yang meninggalkan bank. Perbandingan ini menarik untuk diperhatikan jika dibandingkan dengan perbandingan keseluruhan data, di mana perbandingan nasabah yang meninggalkan bank (Exited) adalah 4:1 dibandingkan dengan nasabah yang tetap. Ini menunjukkan bahwa nasabah lansia memiliki kecenderungan yang lebih tinggi untuk tetap menjadi nasabah bank daripada kelompok umur lainnya. Sehingga kecurigaan saya bahwa lansia lebih banyak meninggalkan bank **tidak terbukti**."
      ],
      "metadata": {
        "id": "Rt47lO_Vyc33"
      }
    },
    {
      "cell_type": "code",
      "source": [
        "#Check 'Age' Outliers\n",
        "mean = df.Age.mean()\n",
        "std = df.Age.std()\n",
        "Tmin = mean - (3 * std)\n",
        "Tmax = mean + (3 * std)\n",
        "\n",
        "filtered_values = df[(df['Age'] < Tmin) | (df['Age'] > Tmax)]['Age'].values\n",
        "print(filtered_values)\n",
        "print(f'Jumlah tuple outliers = ',len(filtered_values))\n",
        "print(\"===================================================================================\")\n",
        "print(\"======= Finding out whether more elderly individuals are leaving the bank? ========\")\n",
        "print(\"===================================================================================\")\n",
        "\n",
        "a = df[df['Age'].isin(filtered_values)]\n",
        "b = df[df.index.isin(a.index)]\n",
        "print(b['churn'].value_counts())"
      ],
      "metadata": {
        "colab": {
          "base_uri": "https://localhost:8080/"
        },
        "id": "G8RiB9pTyOWt",
        "outputId": "ada0c8be-d818-43d8-c8ff-ef1161539848"
      },
      "execution_count": null,
      "outputs": [
        {
          "output_type": "stream",
          "name": "stdout",
          "text": [
            "[66. 66. 77. 67. 71. 79. 66. 69. 67. 80. 67. 74. 67. 72. 67. 69. 71. 66.\n",
            " 67. 67. 70. 66. 66. 67. 80. 67. 67. 74. 67. 66. 69. 71. 67. 70. 67. 69.\n",
            " 71. 70. 66. 66. 83. 67. 72. 78. 79. 70. 77. 68. 66. 66. 66. 69. 67. 67.\n",
            " 67. 66. 66. 71. 70. 70. 77. 67. 66. 73. 68. 66. 72. 66. 79. 77. 66. 67.\n",
            " 67. 75. 73. 69. 69. 67. 71. 69. 68. 72. 67. 78. 71. 71. 67. 75. 73. 67.\n",
            " 71. 68. 66. 69. 76. 74. 67. 77. 67. 70. 66. 71. 77. 71. 69. 77. 67. 67.\n",
            " 71. 82. 66. 78. 66. 74. 71. 66. 66. 69. 66. 68. 66. 67. 66. 67. 92. 71.\n",
            " 71. 71. 66. 71. 66. 71. 66. 72. 74. 66. 72. 69. 71. 66. 66. 71. 68. 74.\n",
            " 66. 92. 68. 67. 67. 69. 66. 68. 69. 71. 72. 69. 72. 71. 70. 67. 69. 71.\n",
            " 71. 68. 74. 66. 72. 67. 71. 73. 66. 67. 67. 66. 73. 67. 67. 67. 68. 66.\n",
            " 70. 66. 70. 71. 66. 67. 77. 67. 66. 74. 71. 67. 77. 72. 66. 71. 66. 67.\n",
            " 75. 67. 67. 68. 71. 67. 66. 66. 66. 72. 68. 72. 69. 74. 67. 77. 74. 66.\n",
            " 71. 66. 68. 66. 67. 67. 66. 66. 71. 71. 72. 67. 66. 71. 66. 67. 76. 71.\n",
            " 68. 69. 70. 69. 66. 79. 72. 69. 67. 67. 69. 67. 66. 68. 75. 68. 80. 67.\n",
            " 70. 66. 74. 66. 68. 75. 72. 72. 68. 70. 75. 84. 71. 71. 70. 66. 78. 92.\n",
            " 68. 68. 67. 71. 69. 67. 76. 67. 66. 72. 68. 67. 66. 69. 66. 66. 66. 66.\n",
            " 74. 67. 72. 71. 66. 72. 70. 67. 67. 67. 73. 72. 66. 75. 66. 67. 72. 68.\n",
            " 66. 66. 72. 70. 68. 69. 75. 77. 71. 82. 67. 72. 72. 67. 66. 71. 79. 70.\n",
            " 74. 80. 77. 71. 69. 73. 75. 68. 71. 66. 70. 72. 75. 66. 71. 71. 69. 71.\n",
            " 72. 70. 66. 71. 78. 67. 67. 72. 75. 67. 72. 66. 67. 71. 73. 70. 66. 72.\n",
            " 67. 68. 66. 71. 67. 74. 71. 67. 71. 67. 85. 75. 67. 74. 67. 76. 66. 66.\n",
            " 70. 67. 77. 72. 77. 67. 77. 77. 66. 66. 78. 67. 66. 67. 75. 67. 74. 70.\n",
            " 66. 67. 66. 66. 75. 66. 74. 72. 71. 67. 74. 71. 71. 66. 68. 67. 71. 72.\n",
            " 67. 68. 71. 66. 67. 71. 66. 81. 66. 67. 71. 67. 66. 74. 67. 76. 67. 79.\n",
            " 73. 73. 69. 71. 71. 76. 79. 67. 92. 66. 71. 72. 66. 76. 72. 72. 71. 66.\n",
            " 66. 74. 74. 75. 68. 67. 76. 73. 71. 67. 66. 69. 67. 73. 67. 67. 71. 67.\n",
            " 69. 68. 66. 66. 67. 69. 66. 71. 79. 69. 71. 71. 75. 69. 68. 72. 66.]\n",
            "Jumlah tuple outliers =  485\n",
            "===================================================================================\n",
            "======= Finding out whether more elderly individuals are leaving the bank? ========\n",
            "===================================================================================\n",
            "churn\n",
            "0    394\n",
            "1     91\n",
            "Name: count, dtype: int64\n"
          ]
        }
      ]
    },
    {
      "cell_type": "markdown",
      "source": [
        "Berdasarkan nilai Outliers dari Credit Score dimana skor yang lebih kecil daripada 360 seluruhnya adalah nasabah yang meninggalkan bank. Hal ini dapat memberikan insight bahwa nasabah yang jarang melakukan kredit berpotensi besar untuk meninggalkan bank. Dari sini saya dapat memberikan rekomendasi bahwa pihak bank harus dapat meningkatkan ketertarikan nasabah untuk melakukan kredit pada bank sehingga dapat menekan churn rate nasabah seperti:\n",
        "\n",
        "1. Bank dapat mengembangkan produk kredit yang sesuai dengan kebutuhan dan preferensi nasabah, serta menawarkan suku bunga yang kompetitif dan fleksibel.\n",
        "\n",
        "2. Memberikan edukasi dan informasi yang jelas mengenai manfaat dan proses pengajuan kredit kepada nasabah potensial dapat meningkatkan kepercayaan dan minat mereka terhadap produk tersebut.\n",
        "\n",
        "3. Menggunakan strategi pemasaran yang tepat, seperti iklan digital, promosi melalui media sosial, dan kampanye pemasaran yang terfokus, dapat membantu meningkatkan kesadaran nasabah terhadap produk kredit bank.\n",
        "\n",
        "4. Memberikan pelayanan pelanggan yang baik dan responsif dapat membantu menciptakan pengalaman positif bagi nasabah yang mengajukan kredit, sehingga meningkatkan loyalitas dan retensi nasabah.\n",
        "\n",
        "\n",
        "NOTES:\n",
        "Disini saya memutuskan untuk membiarkan nilai outliers yang ada karena bagaimanapun model yang nanti akan saya bangun membutuhkan data outliers agar model akan tahan dengan data outliers nantinya."
      ],
      "metadata": {
        "id": "FI_E9zYRyyx4"
      }
    },
    {
      "cell_type": "code",
      "source": [
        "#Check 'CreditScore' Outliers\n",
        "mean = df.CreditScore.mean()\n",
        "std = df.CreditScore.std()\n",
        "Tmin = mean - (3 * std)\n",
        "Tmax = mean + (3 * std)\n",
        "\n",
        "filtered_values = df[(df['CreditScore'] < Tmin) | (df['CreditScore'] > Tmax)]['CreditScore'].values\n",
        "print(filtered_values)\n",
        "print(f'Jumlah tuple outliers = ',len(filtered_values))\n",
        "print(\"===================================================================================\")\n",
        "print(\"===== Finding out whether less credit score individuals are leaving the bank? =====\")\n",
        "print(\"===================================================================================\")\n",
        "\n",
        "a = df[df['CreditScore'].isin(filtered_values)]\n",
        "b = df[df.index.isin(a.index)]\n",
        "print(b['churn'].value_counts())"
      ],
      "metadata": {
        "colab": {
          "base_uri": "https://localhost:8080/"
        },
        "id": "z6HDOxXbyOZp",
        "outputId": "d920d472-7101-4afd-f2da-af4f97cd2972"
      },
      "execution_count": null,
      "outputs": [
        {
          "output_type": "stream",
          "name": "stdout",
          "text": [
            "[415. 413. 414. 363. 367. 412. 413. 411. 383. 415. 412. 408. 416. 411.\n",
            " 411. 416. 411. 414. 365. 411. 350. 365. 376. 408. 350. 359. 405. 411.\n",
            " 414. 412. 411. 359.]\n",
            "Jumlah tuple outliers =  32\n",
            "===================================================================================\n",
            "===== Finding out whether less credit score individuals are leaving the bank? =====\n",
            "===================================================================================\n",
            "churn\n",
            "0    25\n",
            "1     7\n",
            "Name: count, dtype: int64\n"
          ]
        }
      ]
    },
    {
      "cell_type": "markdown",
      "source": [
        "Tidak terdeteksi adanya outliers dari data 'balance' nasabah"
      ],
      "metadata": {
        "id": "_sXZjg52z7I9"
      }
    },
    {
      "cell_type": "code",
      "source": [
        "#Check 'Balance' Outliers\n",
        "mean = df.Balance.mean()\n",
        "std = df.Balance.std()\n",
        "Tmin = mean - (3 * std)\n",
        "Tmax = mean + (3 * std)\n",
        "\n",
        "filtered_values = df[(df['Balance'] < Tmin) | (df['Balance'] > Tmax)]['Balance'].values\n",
        "print(filtered_values)\n",
        "print(f'Jumlah tuple outliers = ',len(filtered_values))\n",
        "print(\"========================\")\n",
        "print(\"===== No Outliers ======\")\n",
        "print(\"========================\")\n",
        "\n",
        "a = df[df['Balance'].isin(filtered_values)]\n",
        "b = df[df.index.isin(a.index)]\n",
        "print(b['churn'].value_counts())"
      ],
      "metadata": {
        "colab": {
          "base_uri": "https://localhost:8080/"
        },
        "id": "mBBBPtlxyOch",
        "outputId": "4c9b66a7-fcc1-41c4-836e-9ec719d70fa0"
      },
      "execution_count": null,
      "outputs": [
        {
          "output_type": "stream",
          "name": "stdout",
          "text": [
            "[]\n",
            "Jumlah tuple outliers =  0\n",
            "========================\n",
            "===== No Outliers ======\n",
            "========================\n",
            "Series([], Name: count, dtype: int64)\n"
          ]
        }
      ]
    },
    {
      "cell_type": "markdown",
      "source": [
        "Tidak terdeteksi adanya outliers dari data 'EstimatedSalary' nasabah"
      ],
      "metadata": {
        "id": "54egCeBN0J5E"
      }
    },
    {
      "cell_type": "code",
      "source": [
        "#Check 'EstimatedSalary' Outliers\n",
        "mean = df.EstimatedSalary.mean()\n",
        "std = df.EstimatedSalary.std()\n",
        "Tmin = mean - (3 * std)\n",
        "Tmax = mean + (3 * std)\n",
        "\n",
        "filtered_values = df[(df['EstimatedSalary'] < Tmin) | (df['EstimatedSalary'] > Tmax)]['EstimatedSalary'].values\n",
        "print(filtered_values)\n",
        "print(f'Jumlah tuple outliers = ',len(filtered_values))\n",
        "print(\"========================\")\n",
        "print(\"===== No Outliers ======\")\n",
        "print(\"========================\")\n",
        "\n",
        "a = df[df['EstimatedSalary'].isin(filtered_values)]\n",
        "b = df[df.index.isin(a.index)]\n",
        "print(b['churn'].value_counts())"
      ],
      "metadata": {
        "colab": {
          "base_uri": "https://localhost:8080/"
        },
        "id": "SxQMsSZHyOfN",
        "outputId": "e12264d5-ca3e-48ba-ad53-358285a2c37d"
      },
      "execution_count": null,
      "outputs": [
        {
          "output_type": "stream",
          "name": "stdout",
          "text": [
            "[]\n",
            "Jumlah tuple outliers =  0\n",
            "========================\n",
            "===== No Outliers ======\n",
            "========================\n",
            "Series([], Name: count, dtype: int64)\n"
          ]
        }
      ]
    },
    {
      "cell_type": "markdown",
      "source": [
        "Dari distribusi Pie Chart dibawah ini, nasabah perempuan lebih banyak yang meninggalkan bank daripada nasabah laki-laki. Saya berasumsi bahwa hal ini terjadi karena laki-laki sebagai tulang punggung keluarga yang harus memiliki tabungan untuk keluarganya seperti dana darurat lebih membutuhkan bank daripada perempuan."
      ],
      "metadata": {
        "id": "B_Of3I8C0j0V"
      }
    },
    {
      "cell_type": "code",
      "source": [
        "# Filtering data 'Exited' == 1\n",
        "exited_df = df[df['churn'] == 1]\n",
        "\n",
        "# Plot pie chart\n",
        "gender_counts_churn = exited_df['Gender'].value_counts()\n",
        "plt.pie(gender_counts_churn, labels=gender_counts_churn.index, autopct='%1.1f%%', colors=['#99ff99', '#ffcc99'])\n",
        "plt.title('Gender Distribution of Exited Customers')\n",
        "plt.show()"
      ],
      "metadata": {
        "colab": {
          "base_uri": "https://localhost:8080/",
          "height": 428
        },
        "id": "k5HLN2neyOhv",
        "outputId": "e44f7d5c-ab3a-4dd9-9cf7-8cced6bb3dd8"
      },
      "execution_count": null,
      "outputs": [
        {
          "output_type": "display_data",
          "data": {
            "text/plain": [
              "<Figure size 640x480 with 1 Axes>"
            ],
            "image/png": "[encoded data removed]"
          },
          "metadata": {}
        }
      ]
    },
    {
      "cell_type": "markdown",
      "source": [
        "Dari Plotting dibawah ini, terlihat bahwa lebih dari 50% nasabah dari German meninggalkan bank. dibandingkan dengan negara prancis dan spanyol yang Exited Ratenya kurang lebih 20% saja. Perlu menjadi pertanyaan besar mengapa banyak nasabah jerman yang meninggalkan bank. untuk menjawab pertanyaan ini saya membutuhkan data lebih lanjut seperti :\n",
        "1. Data survei yang mengumpulkan feedback dari nasabah Jerman tentang pengalaman mereka dengan layanan bank, kepuasan terhadap produk dan layanan, serta harapan mereka terhadap kualitas pelayanan bank.\n",
        "\n",
        "2. Analisis pola transaksi dan riwayat akun nasabah Jerman yang telah meninggalkan bank untuk memahami apakah ada pola atau tren tertentu yang mungkin menjadi penyebab mereka meninggalkan bank.\n",
        "\n",
        "3. Informasi tentang demografi nasabah Jerman yang telah meninggalkan bank, termasuk usia, pendapatan, profesi, dan faktor-faktor lain yang mungkin memengaruhi keputusan mereka.\n",
        "\n",
        "4. Melakukan studi pasar untuk memahami tren industri perbankan di Jerman, serta menganalisis layanan dan kebijakan persaingan dari bank-bank lain yang mungkin mempengaruhi keputusan nasabah.\n",
        "\n",
        "5. Menganalisis segmentasi pelanggan di Jerman untuk memahami preferensi dan kebutuhan khusus dari segmen-segmen tertentu, dan bagaimana bank dapat mengakomodasi kebutuhan tersebut."
      ],
      "metadata": {
        "id": "jKLyCPv508EL"
      }
    },
    {
      "cell_type": "code",
      "source": [
        "# Filtering data 'churn' == 0\n",
        "active_df = df[df['churn'] == 0]\n",
        "# Filtering data 'churn' == 1\n",
        "exited_df = df[df['churn'] == 1]\n",
        "\n",
        "# Plot bar chart\n",
        "geography_counts_active = active_df['Geography'].value_counts()\n",
        "geography_counts_exited = exited_df['Geography'].value_counts()\n",
        "plt.figure(figsize=(10, 6))\n",
        "plt.bar(geography_counts_active.index, geography_counts_active.values, label='Exited=0', color='#66cc99', alpha=0.7)\n",
        "plt.bar(geography_counts_exited.index, geography_counts_exited.values, label='Exited=1', color='#ff9999', alpha=0.7)\n",
        "plt.title('Geography Distribution by Customer Exit Status')\n",
        "plt.xlabel('Geography')\n",
        "plt.ylabel('Count')\n",
        "plt.xticks(rotation=360)\n",
        "plt.legend()\n",
        "plt.tight_layout()\n",
        "plt.show()"
      ],
      "metadata": {
        "colab": {
          "base_uri": "https://localhost:8080/",
          "height": 607
        },
        "id": "H5p5av2-yOkT",
        "outputId": "a08b9842-c322-45cf-e539-3ddbf99aa2d9"
      },
      "execution_count": null,
      "outputs": [
        {
          "output_type": "display_data",
          "data": {
            "text/plain": [
              "<Figure size 1000x600 with 1 Axes>"
            ],
            "image/png": "[encoded data removed]"
          },
          "metadata": {}
        }
      ]
    },
    {
      "cell_type": "markdown",
      "source": [
        "**Data Preprocessing**\n",
        "\n",
        "Sebelum melakukan modelling, saya melakukan feature engineering pada beberapa kolom kategorik karena model hanya dapat menerima inputan numerik.\n",
        "Untuk kolom 'unnamed: 0', 'if', 'CustomerId', 'Surname' karena tidak relevan dan tidak berpengaruh terhadap output (churn) saya memutuskan untuk drop keempat kolom tersebut. kolom Gender karena hanya ada 2 kemungkinan output saya lakukan binary encoding, sedangkan untuk kolom Geography karena hanya ada 3 value saya lakukan onehot ecoding dimana nantinya akan ada 3 kolom baru per masing-masing unique value dari kolom 'Geography'. Dengan demikian seluruh kolom sudah dalam bentuk numerik."
      ],
      "metadata": {
        "id": "ea74qtBi1ZhL"
      }
    },
    {
      "cell_type": "code",
      "source": [
        "#Drop Unrelated Features\n",
        "df = df.drop(columns=['Unnamed: 0', 'id', 'CustomerId', 'Surname'])\n",
        "df.columns"
      ],
      "metadata": {
        "colab": {
          "base_uri": "https://localhost:8080/"
        },
        "id": "8ubC5svByOms",
        "outputId": "3d9873f2-1ffc-4c00-c8e1-fd002cf68526"
      },
      "execution_count": null,
      "outputs": [
        {
          "output_type": "execute_result",
          "data": {
            "text/plain": [
              "Index(['CreditScore', 'Geography', 'Gender', 'Age', 'Tenure', 'Balance',\n",
              "       'NumOfProducts', 'HasCrCard', 'IsActiveMember', 'EstimatedSalary',\n",
              "       'churn'],\n",
              "      dtype='object')"
            ]
          },
          "metadata": {},
          "execution_count": 17
        }
      ]
    },
    {
      "cell_type": "code",
      "source": [
        "df.info()"
      ],
      "metadata": {
        "colab": {
          "base_uri": "https://localhost:8080/"
        },
        "id": "mFyUvC801Te0",
        "outputId": "84804eaf-ae16-44ca-c312-c5a0aedb98c2"
      },
      "execution_count": null,
      "outputs": [
        {
          "output_type": "stream",
          "name": "stdout",
          "text": [
            "<class 'pandas.core.frame.DataFrame'>\n",
            "RangeIndex: 41258 entries, 0 to 41257\n",
            "Data columns (total 11 columns):\n",
            " #   Column           Non-Null Count  Dtype  \n",
            "---  ------           --------------  -----  \n",
            " 0   CreditScore      41246 non-null  float64\n",
            " 1   Geography        41258 non-null  object \n",
            " 2   Gender           41258 non-null  object \n",
            " 3   Age              41258 non-null  float64\n",
            " 4   Tenure           41258 non-null  int64  \n",
            " 5   Balance          41258 non-null  float64\n",
            " 6   NumOfProducts    41258 non-null  int64  \n",
            " 7   HasCrCard        41258 non-null  int64  \n",
            " 8   IsActiveMember   41258 non-null  int64  \n",
            " 9   EstimatedSalary  41258 non-null  float64\n",
            " 10  churn            41258 non-null  int64  \n",
            "dtypes: float64(4), int64(5), object(2)\n",
            "memory usage: 3.5+ MB\n"
          ]
        }
      ]
    },
    {
      "cell_type": "code",
      "source": [
        "df.head(2)"
      ],
      "metadata": {
        "colab": {
          "base_uri": "https://localhost:8080/",
          "height": 112
        },
        "id": "fCUxWD9M1Tg_",
        "outputId": "36e7708b-687a-49d6-cf2a-6f1236dac764"
      },
      "execution_count": null,
      "outputs": [
        {
          "output_type": "execute_result",
          "data": {
            "text/plain": [
              "   CreditScore Geography  Gender   Age  Tenure    Balance  NumOfProducts  \\\n",
              "0        628.0     Spain  Female  50.0       4  160133.08              1   \n",
              "1        710.0     Spain    Male  34.0       8       0.00              2   \n",
              "\n",
              "   HasCrCard  IsActiveMember  EstimatedSalary  churn  \n",
              "0          1               1           653.53      0  \n",
              "1          1               1         72993.73      0  "
            ],
            "text/html": [
              "\n",
              "  <div id=\"df-d2a2e8be-13fe-4444-849f-f8c3ab326f4a\" class=\"colab-df-container\">\n",
              "    <div>\n",
              "<style scoped>\n",
              "    .dataframe tbody tr th:only-of-type {\n",
              "        vertical-align: middle;\n",
              "    }\n",
              "\n",
              "    .dataframe tbody tr th {\n",
              "        vertical-align: top;\n",
              "    }\n",
              "\n",
              "    .dataframe thead th {\n",
              "        text-align: right;\n",
              "    }\n",
              "</style>\n",
              "<table border=\"1\" class=\"dataframe\">\n",
              "  <thead>\n",
              "    <tr style=\"text-align: right;\">\n",
              "      <th></th>\n",
              "      <th>CreditScore</th>\n",
              "      <th>Geography</th>\n",
              "      <th>Gender</th>\n",
              "      <th>Age</th>\n",
              "      <th>Tenure</th>\n",
              "      <th>Balance</th>\n",
              "      <th>NumOfProducts</th>\n",
              "      <th>HasCrCard</th>\n",
              "      <th>IsActiveMember</th>\n",
              "      <th>EstimatedSalary</th>\n",
              "      <th>churn</th>\n",
              "    </tr>\n",
              "  </thead>\n",
              "  <tbody>\n",
              "    <tr>\n",
              "      <th>0</th>\n",
              "      <td>628.0</td>\n",
              "      <td>Spain</td>\n",
              "      <td>Female</td>\n",
              "      <td>50.0</td>\n",
              "      <td>4</td>\n",
              "      <td>160133.08</td>\n",
              "      <td>1</td>\n",
              "      <td>1</td>\n",
              "      <td>1</td>\n",
              "      <td>653.53</td>\n",
              "      <td>0</td>\n",
              "    </tr>\n",
              "    <tr>\n",
              "      <th>1</th>\n",
              "      <td>710.0</td>\n",
              "      <td>Spain</td>\n",
              "      <td>Male</td>\n",
              "      <td>34.0</td>\n",
              "      <td>8</td>\n",
              "      <td>0.00</td>\n",
              "      <td>2</td>\n",
              "      <td>1</td>\n",
              "      <td>1</td>\n",
              "      <td>72993.73</td>\n",
              "      <td>0</td>\n",
              "    </tr>\n",
              "  </tbody>\n",
              "</table>\n",
              "</div>\n",
              "    <div class=\"colab-df-buttons\">\n",
              "\n",
              "  <div class=\"colab-df-container\">\n",
              "    <button class=\"colab-df-convert\" onclick=\"convertToInteractive('df-d2a2e8be-13fe-4444-849f-f8c3ab326f4a')\"\n",
              "            title=\"Convert this dataframe to an interactive table.\"\n",
              "            style=\"display:none;\">\n",
              "\n",
              "  <svg xmlns=\"http://www.w3.org/2000/svg\" height=\"24px\" viewBox=\"0 -960 960 960\">\n",
              "    <path d=\"M120-120v-720h720v720H120Zm60-500h600v-160H180v160Zm220 220h160v-160H400v160Zm0 220h160v-160H400v160ZM180-400h160v-160H180v160Zm440 0h160v-160H620v160ZM180-180h160v-160H180v160Zm440 0h160v-160H620v160Z\"/>\n",
              "  </svg>\n",
              "    </button>\n",
              "\n",
              "  <style>\n",
              "    .colab-df-container {\n",
              "      display:flex;\n",
              "      gap: 12px;\n",
              "    }\n",
              "\n",
              "    .colab-df-convert {\n",
              "      background-color: #E8F0FE;\n",
              "      border: none;\n",
              "      border-radius: 50%;\n",
              "      cursor: pointer;\n",
              "      display: none;\n",
              "      fill: #1967D2;\n",
              "      height: 32px;\n",
              "      padding: 0 0 0 0;\n",
              "      width: 32px;\n",
              "    }\n",
              "\n",
              "    .colab-df-convert:hover {\n",
              "      background-color: #E2EBFA;\n",
              "      box-shadow: 0px 1px 2px rgba(60, 64, 67, 0.3), 0px 1px 3px 1px rgba(60, 64, 67, 0.15);\n",
              "      fill: #174EA6;\n",
              "    }\n",
              "\n",
              "    .colab-df-buttons div {\n",
              "      margin-bottom: 4px;\n",
              "    }\n",
              "\n",
              "    [theme=dark] .colab-df-convert {\n",
              "      background-color: #3B4455;\n",
              "      fill: #D2E3FC;\n",
              "    }\n",
              "\n",
              "    [theme=dark] .colab-df-convert:hover {\n",
              "      background-color: #434B5C;\n",
              "      box-shadow: 0px 1px 3px 1px rgba(0, 0, 0, 0.15);\n",
              "      filter: drop-shadow(0px 1px 2px rgba(0, 0, 0, 0.3));\n",
              "      fill: #FFFFFF;\n",
              "    }\n",
              "  </style>\n",
              "\n",
              "    <script>\n",
              "      const buttonEl =\n",
              "        document.querySelector('#df-d2a2e8be-13fe-4444-849f-f8c3ab326f4a button.colab-df-convert');\n",
              "      buttonEl.style.display =\n",
              "        google.colab.kernel.accessAllowed ? 'block' : 'none';\n",
              "\n",
              "      async function convertToInteractive(key) {\n",
              "        const element = document.querySelector('#df-d2a2e8be-13fe-4444-849f-f8c3ab326f4a');\n",
              "        const dataTable =\n",
              "          await google.colab.kernel.invokeFunction('convertToInteractive',\n",
              "                                                    [key], {});\n",
              "        if (!dataTable) return;\n",
              "\n",
              "        const docLinkHtml = 'Like what you see? Visit the ' +\n",
              "          '<a target=\"_blank\" href=https://colab.research.google.com/notebooks/data_table.ipynb>data table notebook</a>'\n",
              "          + ' to learn more about interactive tables.';\n",
              "        element.innerHTML = '';\n",
              "        dataTable['output_type'] = 'display_data';\n",
              "        await google.colab.output.renderOutput(dataTable, element);\n",
              "        const docLink = document.createElement('div');\n",
              "        docLink.innerHTML = docLinkHtml;\n",
              "        element.appendChild(docLink);\n",
              "      }\n",
              "    </script>\n",
              "  </div>\n",
              "\n",
              "\n",
              "<div id=\"df-8eacca77-23e0-48dd-aeb0-a415a578296c\">\n",
              "  <button class=\"colab-df-quickchart\" onclick=\"quickchart('df-8eacca77-23e0-48dd-aeb0-a415a578296c')\"\n",
              "            title=\"Suggest charts\"\n",
              "            style=\"display:none;\">\n",
              "\n",
              "<svg xmlns=\"http://www.w3.org/2000/svg\" height=\"24px\"viewBox=\"0 0 24 24\"\n",
              "     width=\"24px\">\n",
              "    <g>\n",
              "        <path d=\"M19 3H5c-1.1 0-2 .9-2 2v14c0 1.1.9 2 2 2h14c1.1 0 2-.9 2-2V5c0-1.1-.9-2-2-2zM9 17H7v-7h2v7zm4 0h-2V7h2v10zm4 0h-2v-4h2v4z\"/>\n",
              "    </g>\n",
              "</svg>\n",
              "  </button>\n",
              "\n",
              "<style>\n",
              "  .colab-df-quickchart {\n",
              "      --bg-color: #E8F0FE;\n",
              "      --fill-color: #1967D2;\n",
              "      --hover-bg-color: #E2EBFA;\n",
              "      --hover-fill-color: #174EA6;\n",
              "      --disabled-fill-color: #AAA;\n",
              "      --disabled-bg-color: #DDD;\n",
              "  }\n",
              "\n",
              "  [theme=dark] .colab-df-quickchart {\n",
              "      --bg-color: #3B4455;\n",
              "      --fill-color: #D2E3FC;\n",
              "      --hover-bg-color: #434B5C;\n",
              "      --hover-fill-color: #FFFFFF;\n",
              "      --disabled-bg-color: #3B4455;\n",
              "      --disabled-fill-color: #666;\n",
              "  }\n",
              "\n",
              "  .colab-df-quickchart {\n",
              "    background-color: var(--bg-color);\n",
              "    border: none;\n",
              "    border-radius: 50%;\n",
              "    cursor: pointer;\n",
              "    display: none;\n",
              "    fill: var(--fill-color);\n",
              "    height: 32px;\n",
              "    padding: 0;\n",
              "    width: 32px;\n",
              "  }\n",
              "\n",
              "  .colab-df-quickchart:hover {\n",
              "    background-color: var(--hover-bg-color);\n",
              "    box-shadow: 0 1px 2px rgba(60, 64, 67, 0.3), 0 1px 3px 1px rgba(60, 64, 67, 0.15);\n",
              "    fill: var(--button-hover-fill-color);\n",
              "  }\n",
              "\n",
              "  .colab-df-quickchart-complete:disabled,\n",
              "  .colab-df-quickchart-complete:disabled:hover {\n",
              "    background-color: var(--disabled-bg-color);\n",
              "    fill: var(--disabled-fill-color);\n",
              "    box-shadow: none;\n",
              "  }\n",
              "\n",
              "  .colab-df-spinner {\n",
              "    border: 2px solid var(--fill-color);\n",
              "    border-color: transparent;\n",
              "    border-bottom-color: var(--fill-color);\n",
              "    animation:\n",
              "      spin 1s steps(1) infinite;\n",
              "  }\n",
              "\n",
              "  @keyframes spin {\n",
              "    0% {\n",
              "      border-color: transparent;\n",
              "      border-bottom-color: var(--fill-color);\n",
              "      border-left-color: var(--fill-color);\n",
              "    }\n",
              "    20% {\n",
              "      border-color: transparent;\n",
              "      border-left-color: var(--fill-color);\n",
              "      border-top-color: var(--fill-color);\n",
              "    }\n",
              "    30% {\n",
              "      border-color: transparent;\n",
              "      border-left-color: var(--fill-color);\n",
              "      border-top-color: var(--fill-color);\n",
              "      border-right-color: var(--fill-color);\n",
              "    }\n",
              "    40% {\n",
              "      border-color: transparent;\n",
              "      border-right-color: var(--fill-color);\n",
              "      border-top-color: var(--fill-color);\n",
              "    }\n",
              "    60% {\n",
              "      border-color: transparent;\n",
              "      border-right-color: var(--fill-color);\n",
              "    }\n",
              "    80% {\n",
              "      border-color: transparent;\n",
              "      border-right-color: var(--fill-color);\n",
              "      border-bottom-color: var(--fill-color);\n",
              "    }\n",
              "    90% {\n",
              "      border-color: transparent;\n",
              "      border-bottom-color: var(--fill-color);\n",
              "    }\n",
              "  }\n",
              "</style>\n",
              "\n",
              "  <script>\n",
              "    async function quickchart(key) {\n",
              "      const quickchartButtonEl =\n",
              "        document.querySelector('#' + key + ' button');\n",
              "      quickchartButtonEl.disabled = true;  // To prevent multiple clicks.\n",
              "      quickchartButtonEl.classList.add('colab-df-spinner');\n",
              "      try {\n",
              "        const charts = await google.colab.kernel.invokeFunction(\n",
              "            'suggestCharts', [key], {});\n",
              "      } catch (error) {\n",
              "        console.error('Error during call to suggestCharts:', error);\n",
              "      }\n",
              "      quickchartButtonEl.classList.remove('colab-df-spinner');\n",
              "      quickchartButtonEl.classList.add('colab-df-quickchart-complete');\n",
              "    }\n",
              "    (() => {\n",
              "      let quickchartButtonEl =\n",
              "        document.querySelector('#df-8eacca77-23e0-48dd-aeb0-a415a578296c button');\n",
              "      quickchartButtonEl.style.display =\n",
              "        google.colab.kernel.accessAllowed ? 'block' : 'none';\n",
              "    })();\n",
              "  </script>\n",
              "</div>\n",
              "    </div>\n",
              "  </div>\n"
            ],
            "application/vnd.google.colaboratory.intrinsic+json": {
              "type": "dataframe",
              "variable_name": "df",
              "summary": "{\n  \"name\": \"df\",\n  \"rows\": 41258,\n  \"fields\": [\n    {\n      \"column\": \"CreditScore\",\n      \"properties\": {\n        \"dtype\": \"number\",\n        \"std\": 79.73629763639165,\n        \"min\": 350.0,\n        \"max\": 850.0,\n        \"num_unique_values\": 444,\n        \"samples\": [\n          446.0,\n          815.0,\n          633.0\n        ],\n        \"semantic_type\": \"\",\n        \"description\": \"\"\n      }\n    },\n    {\n      \"column\": \"Geography\",\n      \"properties\": {\n        \"dtype\": \"category\",\n        \"num_unique_values\": 3,\n        \"samples\": [\n          \"Spain\",\n          \"France\",\n          \"Germany\"\n        ],\n        \"semantic_type\": \"\",\n        \"description\": \"\"\n      }\n    },\n    {\n      \"column\": \"Gender\",\n      \"properties\": {\n        \"dtype\": \"category\",\n        \"num_unique_values\": 2,\n        \"samples\": [\n          \"Male\",\n          \"Female\"\n        ],\n        \"semantic_type\": \"\",\n        \"description\": \"\"\n      }\n    },\n    {\n      \"column\": \"Age\",\n      \"properties\": {\n        \"dtype\": \"number\",\n        \"std\": 8.947665292837156,\n        \"min\": 18.0,\n        \"max\": 92.0,\n        \"num_unique_values\": 71,\n        \"samples\": [\n          59.0,\n          50.0\n        ],\n        \"semantic_type\": \"\",\n        \"description\": \"\"\n      }\n    },\n    {\n      \"column\": \"Tenure\",\n      \"properties\": {\n        \"dtype\": \"number\",\n        \"std\": 2,\n        \"min\": 0,\n        \"max\": 10,\n        \"num_unique_values\": 11,\n        \"samples\": [\n          3,\n          4\n        ],\n        \"semantic_type\": \"\",\n        \"description\": \"\"\n      }\n    },\n    {\n      \"column\": \"Balance\",\n      \"properties\": {\n        \"dtype\": \"number\",\n        \"std\": 62795.53095016127,\n        \"min\": 0.0,\n        \"max\": 238387.56,\n        \"num_unique_values\": 11410,\n        \"samples\": [\n          131151.09,\n          106854.21\n        ],\n        \"semantic_type\": \"\",\n        \"description\": \"\"\n      }\n    },\n    {\n      \"column\": \"NumOfProducts\",\n      \"properties\": {\n        \"dtype\": \"number\",\n        \"std\": 0,\n        \"min\": 1,\n        \"max\": 4,\n        \"num_unique_values\": 4,\n        \"samples\": [\n          2,\n          4\n        ],\n        \"semantic_type\": \"\",\n        \"description\": \"\"\n      }\n    },\n    {\n      \"column\": \"HasCrCard\",\n      \"properties\": {\n        \"dtype\": \"number\",\n        \"std\": 0,\n        \"min\": 0,\n        \"max\": 1,\n        \"num_unique_values\": 2,\n        \"samples\": [\n          0,\n          1\n        ],\n        \"semantic_type\": \"\",\n        \"description\": \"\"\n      }\n    },\n    {\n      \"column\": \"IsActiveMember\",\n      \"properties\": {\n        \"dtype\": \"number\",\n        \"std\": 0,\n        \"min\": 0,\n        \"max\": 1,\n        \"num_unique_values\": 2,\n        \"samples\": [\n          0,\n          1\n        ],\n        \"semantic_type\": \"\",\n        \"description\": \"\"\n      }\n    },\n    {\n      \"column\": \"EstimatedSalary\",\n      \"properties\": {\n        \"dtype\": \"number\",\n        \"std\": 50048.66666271447,\n        \"min\": 11.58,\n        \"max\": 199992.48,\n        \"num_unique_values\": 20841,\n        \"samples\": [\n          168066.94,\n          180329.74\n        ],\n        \"semantic_type\": \"\",\n        \"description\": \"\"\n      }\n    },\n    {\n      \"column\": \"churn\",\n      \"properties\": {\n        \"dtype\": \"number\",\n        \"std\": 0,\n        \"min\": 0,\n        \"max\": 1,\n        \"num_unique_values\": 2,\n        \"samples\": [\n          1,\n          0\n        ],\n        \"semantic_type\": \"\",\n        \"description\": \"\"\n      }\n    }\n  ]\n}"
            }
          },
          "metadata": {},
          "execution_count": 19
        }
      ]
    },
    {
      "cell_type": "markdown",
      "source": [
        "Setelah melakuakn feature engineering, saya akan melakukan splitting dataset kedalam 3 bagian yakni Train (80%) dan Test (20%). Pada dasarnya karena sebelumnya saya melakukan binary encoding dan one hot encoding pada sejumlah kolom, saya dapat melakukan splitting data baik sebelum atau sesudah feature engineering karena binary/one hot encoding tidak berpengaruh pada value selain dirinya sendiri."
      ],
      "metadata": {
        "id": "7IfriFFx3Fv-"
      }
    },
    {
      "cell_type": "code",
      "source": [
        "from sklearn.model_selection import train_test_split\n",
        "\n",
        "#spliting dataset\n",
        "X = df.drop(columns=\"churn\")\n",
        "y = df.churn\n",
        "\n",
        "X_train, X_test, y_train, y_test = train_test_split(X,y,test_size=0.2, stratify=y,random_state=42)\n",
        "\n",
        "print(f\"X_train : {X_train.shape}\")\n",
        "print(f\"y_train : {y_train.shape}\")\n",
        "print(f\"X_test : {X_test.shape}\")\n",
        "print(f\"y_test : {y_test.shape}\")"
      ],
      "metadata": {
        "colab": {
          "base_uri": "https://localhost:8080/"
        },
        "id": "ci0ugU721TjS",
        "outputId": "b7da0a02-1b1a-4949-98c1-d02de6a67351"
      },
      "execution_count": null,
      "outputs": [
        {
          "output_type": "stream",
          "name": "stdout",
          "text": [
            "X_train : (33006, 10)\n",
            "y_train : (33006,)\n",
            "X_test : (8252, 10)\n",
            "y_test : (8252,)\n"
          ]
        }
      ]
    },
    {
      "cell_type": "code",
      "source": [
        "y_train.value_counts()"
      ],
      "metadata": {
        "colab": {
          "base_uri": "https://localhost:8080/"
        },
        "id": "Xlxkbxx21Tm5",
        "outputId": "43873db9-d495-4dcd-c8c3-50ce487e92e2"
      },
      "execution_count": null,
      "outputs": [
        {
          "output_type": "execute_result",
          "data": {
            "text/plain": [
              "churn\n",
              "0    25928\n",
              "1     7078\n",
              "Name: count, dtype: int64"
            ]
          },
          "metadata": {},
          "execution_count": 21
        }
      ]
    },
    {
      "cell_type": "code",
      "source": [
        "y_test.value_counts()"
      ],
      "metadata": {
        "colab": {
          "base_uri": "https://localhost:8080/"
        },
        "id": "DKTioVWzyOqO",
        "outputId": "e2960f07-e98e-4a50-e0e6-10f071199939"
      },
      "execution_count": null,
      "outputs": [
        {
          "output_type": "execute_result",
          "data": {
            "text/plain": [
              "churn\n",
              "0    6482\n",
              "1    1770\n",
              "Name: count, dtype: int64"
            ]
          },
          "metadata": {},
          "execution_count": 22
        }
      ]
    },
    {
      "cell_type": "markdown",
      "source": [
        "Feature Engineering"
      ],
      "metadata": {
        "id": "vG5E9mfI4UiR"
      }
    },
    {
      "cell_type": "code",
      "source": [
        "#Binary Encoding\n",
        "df_encode={\"Gender\": {\"Male\":1,\"Female\" :0}}\n",
        "X_train=X_train.replace(df_encode)\n",
        "X_test=X_test.replace(df_encode)\n",
        "\n",
        "#One Hot Encoding\n",
        "X_train=pd.get_dummies(X_train,columns=['Geography'])\n",
        "X_test=pd.get_dummies(X_test,columns=['Geography'])"
      ],
      "metadata": {
        "id": "lsTHyf894Tne"
      },
      "execution_count": null,
      "outputs": []
    },
    {
      "cell_type": "markdown",
      "source": [
        "Impute Missing Value\n",
        "\n",
        "Pada Exploratory Data sebelumnya, ditemukan sejumlah missing value pada kolom 'CreditScore'. Maka dari itu agar model dapat dibuat, maka nilai yang missing tersebut harus ditindak lanjuti baik menghapus data yang memiliki missing value ataupun me-replace nya dengan value lain. Dikarenakan jumlah missing value nya tidak banyak, maka saya memutuskan untuk mereplace nya dengan nilai rata-rata kolom 'CreditScore'. Agar tidak terjadi Data Leakage, maka saya mereplace nya dengan nilai mean dari data training agar data testing tidak bocor dalam proses training model. Setelah mendapat nilai mean dari X_train, saya gunakan value tersebut untuk mereplace missing value dalam dataset X_train dan juga X_test."
      ],
      "metadata": {
        "id": "FTjbcJiiI-yl"
      }
    },
    {
      "cell_type": "code",
      "source": [
        "X_train.isna().sum()"
      ],
      "metadata": {
        "colab": {
          "base_uri": "https://localhost:8080/"
        },
        "id": "3WUYaI_hI-Ez",
        "outputId": "e105ce50-cb03-4c52-b008-66c617c9e55b"
      },
      "execution_count": null,
      "outputs": [
        {
          "output_type": "execute_result",
          "data": {
            "text/plain": [
              "CreditScore          10\n",
              "Gender                0\n",
              "Age                   0\n",
              "Tenure                0\n",
              "Balance               0\n",
              "NumOfProducts         0\n",
              "HasCrCard             0\n",
              "IsActiveMember        0\n",
              "EstimatedSalary       0\n",
              "Geography_France      0\n",
              "Geography_Germany     0\n",
              "Geography_Spain       0\n",
              "dtype: int64"
            ]
          },
          "metadata": {},
          "execution_count": 24
        }
      ]
    },
    {
      "cell_type": "code",
      "source": [
        "X_test.isna().sum()"
      ],
      "metadata": {
        "colab": {
          "base_uri": "https://localhost:8080/"
        },
        "id": "sf50KuRmJOmC",
        "outputId": "d5d6e269-f4c0-4140-b29b-04eb79b599a1"
      },
      "execution_count": null,
      "outputs": [
        {
          "output_type": "execute_result",
          "data": {
            "text/plain": [
              "CreditScore          2\n",
              "Gender               0\n",
              "Age                  0\n",
              "Tenure               0\n",
              "Balance              0\n",
              "NumOfProducts        0\n",
              "HasCrCard            0\n",
              "IsActiveMember       0\n",
              "EstimatedSalary      0\n",
              "Geography_France     0\n",
              "Geography_Germany    0\n",
              "Geography_Spain      0\n",
              "dtype: int64"
            ]
          },
          "metadata": {},
          "execution_count": 25
        }
      ]
    },
    {
      "cell_type": "code",
      "source": [
        "#Find Mean of Credit score from X_train\n",
        "X_train['CreditScore'].mean()"
      ],
      "metadata": {
        "colab": {
          "base_uri": "https://localhost:8080/"
        },
        "id": "9eGup7UrJOoI",
        "outputId": "271820a2-588a-42e3-8225-0ce60a8fbadb"
      },
      "execution_count": null,
      "outputs": [
        {
          "output_type": "execute_result",
          "data": {
            "text/plain": [
              "655.8149169596314"
            ]
          },
          "metadata": {},
          "execution_count": 26
        }
      ]
    },
    {
      "cell_type": "code",
      "source": [
        "#replace the mean value to X_train and X_test\n",
        "X_train = X_train.fillna(656.8)\n",
        "X_test = X_test.fillna(656.8)"
      ],
      "metadata": {
        "id": "mlJJ68xAI-IP"
      },
      "execution_count": null,
      "outputs": []
    },
    {
      "cell_type": "code",
      "source": [
        "X_train.isna().sum()"
      ],
      "metadata": {
        "colab": {
          "base_uri": "https://localhost:8080/"
        },
        "id": "BbP58veaKLYa",
        "outputId": "986c9815-4732-4412-dbae-405e741e1ba5"
      },
      "execution_count": null,
      "outputs": [
        {
          "output_type": "execute_result",
          "data": {
            "text/plain": [
              "CreditScore          0\n",
              "Gender               0\n",
              "Age                  0\n",
              "Tenure               0\n",
              "Balance              0\n",
              "NumOfProducts        0\n",
              "HasCrCard            0\n",
              "IsActiveMember       0\n",
              "EstimatedSalary      0\n",
              "Geography_France     0\n",
              "Geography_Germany    0\n",
              "Geography_Spain      0\n",
              "dtype: int64"
            ]
          },
          "metadata": {},
          "execution_count": 28
        }
      ]
    },
    {
      "cell_type": "code",
      "source": [
        "X_test.isna().sum()"
      ],
      "metadata": {
        "colab": {
          "base_uri": "https://localhost:8080/"
        },
        "id": "7ZRVKrM5KLbv",
        "outputId": "6e529dde-2648-40d3-d7e9-90aede26d40b"
      },
      "execution_count": null,
      "outputs": [
        {
          "output_type": "execute_result",
          "data": {
            "text/plain": [
              "CreditScore          0\n",
              "Gender               0\n",
              "Age                  0\n",
              "Tenure               0\n",
              "Balance              0\n",
              "NumOfProducts        0\n",
              "HasCrCard            0\n",
              "IsActiveMember       0\n",
              "EstimatedSalary      0\n",
              "Geography_France     0\n",
              "Geography_Germany    0\n",
              "Geography_Spain      0\n",
              "dtype: int64"
            ]
          },
          "metadata": {},
          "execution_count": 29
        }
      ]
    },
    {
      "cell_type": "markdown",
      "source": [
        "Langkah selanjutnya adalah menormalisasi data. untuk menormalisasi data karena untuk menormalkannya diperlukan value lain selain dirinya sendiri maka dilakukan setelah splitting. disini saya menggunakan 2 pendekatan scaler yakni Robust dan MinMax. saya melakukan scaling di semua kolom yang bukan binary. untuk kolom Age dan Credit Score karena saat explore data kedua kolom tersebut memiliki sejumlah outliers didalamnya, saya menggunakan pendekatan robust scaler dimana pendekatan robust dipengaruhi oleh median sehingga tidak terlalu terpengaruh oleh adanya outliers. Berbeda dengan kolom 'Balance' dan 'EstimatedSalary' dimana kedua kolom ini tidak memiliki outliers, saya melakukan scaling dengan pendekatan MinMax dimana nilai minimum dari kolom akan bernilai 0, dan nilai maximum dari kolom akan bernilai 1 dan nilai lain berada diantara 0 sampai 1."
      ],
      "metadata": {
        "id": "3NPNpQQ93e2i"
      }
    },
    {
      "cell_type": "code",
      "source": [
        "from sklearn.preprocessing import RobustScaler, MinMaxScaler\n",
        "\n",
        "robust_scaler = RobustScaler()\n",
        "minmax_scaler = MinMaxScaler()\n",
        "\n",
        "#Scaling with Robust for Age and Credit Score columns cuz they have many outliers value\n",
        "X_train[['Age', 'CreditScore']] = robust_scaler.fit_transform(X_train[['Age', 'CreditScore']])\n",
        "X_test[['Age', 'CreditScore']] = robust_scaler.transform(X_test[['Age', 'CreditScore']])\n",
        "\n",
        "#Scaling with MinMax for Balance and Estimated Salary columns cuz they have no outliers value\n",
        "X_train[['Balance', 'EstimatedSalary']] = minmax_scaler.fit_transform(X_train[['Balance', 'EstimatedSalary']])\n",
        "X_test[['Balance', 'EstimatedSalary']] = minmax_scaler.transform(X_test[['Balance', 'EstimatedSalary']])\n"
      ],
      "metadata": {
        "id": "ZDXK6bCs3ap0"
      },
      "execution_count": null,
      "outputs": []
    },
    {
      "cell_type": "code",
      "source": [
        "X_train.head(2)"
      ],
      "metadata": {
        "colab": {
          "base_uri": "https://localhost:8080/",
          "height": 132
        },
        "id": "rlxNe4Cf3asX",
        "outputId": "c77f06aa-d6c8-47af-ab55-1638c1183b29"
      },
      "execution_count": null,
      "outputs": [
        {
          "output_type": "execute_result",
          "data": {
            "text/plain": [
              "       CreditScore  Gender  Age  Tenure   Balance  NumOfProducts  HasCrCard  \\\n",
              "310       0.592920       1  1.1       2  0.460917              1          1   \n",
              "15994     0.451327       1  0.5       5  0.592490              2          0   \n",
              "\n",
              "       IsActiveMember  EstimatedSalary  Geography_France  Geography_Germany  \\\n",
              "310                 0         0.863117             False               True   \n",
              "15994               0         0.399622             False               True   \n",
              "\n",
              "       Geography_Spain  \n",
              "310              False  \n",
              "15994            False  "
            ],
            "text/html": [
              "\n",
              "  <div id=\"df-00b2c21b-4481-438e-aa7b-b22563276916\" class=\"colab-df-container\">\n",
              "    <div>\n",
              "<style scoped>\n",
              "    .dataframe tbody tr th:only-of-type {\n",
              "        vertical-align: middle;\n",
              "    }\n",
              "\n",
              "    .dataframe tbody tr th {\n",
              "        vertical-align: top;\n",
              "    }\n",
              "\n",
              "    .dataframe thead th {\n",
              "        text-align: right;\n",
              "    }\n",
              "</style>\n",
              "<table border=\"1\" class=\"dataframe\">\n",
              "  <thead>\n",
              "    <tr style=\"text-align: right;\">\n",
              "      <th></th>\n",
              "      <th>CreditScore</th>\n",
              "      <th>Gender</th>\n",
              "      <th>Age</th>\n",
              "      <th>Tenure</th>\n",
              "      <th>Balance</th>\n",
              "      <th>NumOfProducts</th>\n",
              "      <th>HasCrCard</th>\n",
              "      <th>IsActiveMember</th>\n",
              "      <th>EstimatedSalary</th>\n",
              "      <th>Geography_France</th>\n",
              "      <th>Geography_Germany</th>\n",
              "      <th>Geography_Spain</th>\n",
              "    </tr>\n",
              "  </thead>\n",
              "  <tbody>\n",
              "    <tr>\n",
              "      <th>310</th>\n",
              "      <td>0.592920</td>\n",
              "      <td>1</td>\n",
              "      <td>1.1</td>\n",
              "      <td>2</td>\n",
              "      <td>0.460917</td>\n",
              "      <td>1</td>\n",
              "      <td>1</td>\n",
              "      <td>0</td>\n",
              "      <td>0.863117</td>\n",
              "      <td>False</td>\n",
              "      <td>True</td>\n",
              "      <td>False</td>\n",
              "    </tr>\n",
              "    <tr>\n",
              "      <th>15994</th>\n",
              "      <td>0.451327</td>\n",
              "      <td>1</td>\n",
              "      <td>0.5</td>\n",
              "      <td>5</td>\n",
              "      <td>0.592490</td>\n",
              "      <td>2</td>\n",
              "      <td>0</td>\n",
              "      <td>0</td>\n",
              "      <td>0.399622</td>\n",
              "      <td>False</td>\n",
              "      <td>True</td>\n",
              "      <td>False</td>\n",
              "    </tr>\n",
              "  </tbody>\n",
              "</table>\n",
              "</div>\n",
              "    <div class=\"colab-df-buttons\">\n",
              "\n",
              "  <div class=\"colab-df-container\">\n",
              "    <button class=\"colab-df-convert\" onclick=\"convertToInteractive('df-00b2c21b-4481-438e-aa7b-b22563276916')\"\n",
              "            title=\"Convert this dataframe to an interactive table.\"\n",
              "            style=\"display:none;\">\n",
              "\n",
              "  <svg xmlns=\"http://www.w3.org/2000/svg\" height=\"24px\" viewBox=\"0 -960 960 960\">\n",
              "    <path d=\"M120-120v-720h720v720H120Zm60-500h600v-160H180v160Zm220 220h160v-160H400v160Zm0 220h160v-160H400v160ZM180-400h160v-160H180v160Zm440 0h160v-160H620v160ZM180-180h160v-160H180v160Zm440 0h160v-160H620v160Z\"/>\n",
              "  </svg>\n",
              "    </button>\n",
              "\n",
              "  <style>\n",
              "    .colab-df-container {\n",
              "      display:flex;\n",
              "      gap: 12px;\n",
              "    }\n",
              "\n",
              "    .colab-df-convert {\n",
              "      background-color: #E8F0FE;\n",
              "      border: none;\n",
              "      border-radius: 50%;\n",
              "      cursor: pointer;\n",
              "      display: none;\n",
              "      fill: #1967D2;\n",
              "      height: 32px;\n",
              "      padding: 0 0 0 0;\n",
              "      width: 32px;\n",
              "    }\n",
              "\n",
              "    .colab-df-convert:hover {\n",
              "      background-color: #E2EBFA;\n",
              "      box-shadow: 0px 1px 2px rgba(60, 64, 67, 0.3), 0px 1px 3px 1px rgba(60, 64, 67, 0.15);\n",
              "      fill: #174EA6;\n",
              "    }\n",
              "\n",
              "    .colab-df-buttons div {\n",
              "      margin-bottom: 4px;\n",
              "    }\n",
              "\n",
              "    [theme=dark] .colab-df-convert {\n",
              "      background-color: #3B4455;\n",
              "      fill: #D2E3FC;\n",
              "    }\n",
              "\n",
              "    [theme=dark] .colab-df-convert:hover {\n",
              "      background-color: #434B5C;\n",
              "      box-shadow: 0px 1px 3px 1px rgba(0, 0, 0, 0.15);\n",
              "      filter: drop-shadow(0px 1px 2px rgba(0, 0, 0, 0.3));\n",
              "      fill: #FFFFFF;\n",
              "    }\n",
              "  </style>\n",
              "\n",
              "    <script>\n",
              "      const buttonEl =\n",
              "        document.querySelector('#df-00b2c21b-4481-438e-aa7b-b22563276916 button.colab-df-convert');\n",
              "      buttonEl.style.display =\n",
              "        google.colab.kernel.accessAllowed ? 'block' : 'none';\n",
              "\n",
              "      async function convertToInteractive(key) {\n",
              "        const element = document.querySelector('#df-00b2c21b-4481-438e-aa7b-b22563276916');\n",
              "        const dataTable =\n",
              "          await google.colab.kernel.invokeFunction('convertToInteractive',\n",
              "                                                    [key], {});\n",
              "        if (!dataTable) return;\n",
              "\n",
              "        const docLinkHtml = 'Like what you see? Visit the ' +\n",
              "          '<a target=\"_blank\" href=https://colab.research.google.com/notebooks/data_table.ipynb>data table notebook</a>'\n",
              "          + ' to learn more about interactive tables.';\n",
              "        element.innerHTML = '';\n",
              "        dataTable['output_type'] = 'display_data';\n",
              "        await google.colab.output.renderOutput(dataTable, element);\n",
              "        const docLink = document.createElement('div');\n",
              "        docLink.innerHTML = docLinkHtml;\n",
              "        element.appendChild(docLink);\n",
              "      }\n",
              "    </script>\n",
              "  </div>\n",
              "\n",
              "\n",
              "<div id=\"df-df21e589-2214-4340-bfe9-d4d5cdb5b86c\">\n",
              "  <button class=\"colab-df-quickchart\" onclick=\"quickchart('df-df21e589-2214-4340-bfe9-d4d5cdb5b86c')\"\n",
              "            title=\"Suggest charts\"\n",
              "            style=\"display:none;\">\n",
              "\n",
              "<svg xmlns=\"http://www.w3.org/2000/svg\" height=\"24px\"viewBox=\"0 0 24 24\"\n",
              "     width=\"24px\">\n",
              "    <g>\n",
              "        <path d=\"M19 3H5c-1.1 0-2 .9-2 2v14c0 1.1.9 2 2 2h14c1.1 0 2-.9 2-2V5c0-1.1-.9-2-2-2zM9 17H7v-7h2v7zm4 0h-2V7h2v10zm4 0h-2v-4h2v4z\"/>\n",
              "    </g>\n",
              "</svg>\n",
              "  </button>\n",
              "\n",
              "<style>\n",
              "  .colab-df-quickchart {\n",
              "      --bg-color: #E8F0FE;\n",
              "      --fill-color: #1967D2;\n",
              "      --hover-bg-color: #E2EBFA;\n",
              "      --hover-fill-color: #174EA6;\n",
              "      --disabled-fill-color: #AAA;\n",
              "      --disabled-bg-color: #DDD;\n",
              "  }\n",
              "\n",
              "  [theme=dark] .colab-df-quickchart {\n",
              "      --bg-color: #3B4455;\n",
              "      --fill-color: #D2E3FC;\n",
              "      --hover-bg-color: #434B5C;\n",
              "      --hover-fill-color: #FFFFFF;\n",
              "      --disabled-bg-color: #3B4455;\n",
              "      --disabled-fill-color: #666;\n",
              "  }\n",
              "\n",
              "  .colab-df-quickchart {\n",
              "    background-color: var(--bg-color);\n",
              "    border: none;\n",
              "    border-radius: 50%;\n",
              "    cursor: pointer;\n",
              "    display: none;\n",
              "    fill: var(--fill-color);\n",
              "    height: 32px;\n",
              "    padding: 0;\n",
              "    width: 32px;\n",
              "  }\n",
              "\n",
              "  .colab-df-quickchart:hover {\n",
              "    background-color: var(--hover-bg-color);\n",
              "    box-shadow: 0 1px 2px rgba(60, 64, 67, 0.3), 0 1px 3px 1px rgba(60, 64, 67, 0.15);\n",
              "    fill: var(--button-hover-fill-color);\n",
              "  }\n",
              "\n",
              "  .colab-df-quickchart-complete:disabled,\n",
              "  .colab-df-quickchart-complete:disabled:hover {\n",
              "    background-color: var(--disabled-bg-color);\n",
              "    fill: var(--disabled-fill-color);\n",
              "    box-shadow: none;\n",
              "  }\n",
              "\n",
              "  .colab-df-spinner {\n",
              "    border: 2px solid var(--fill-color);\n",
              "    border-color: transparent;\n",
              "    border-bottom-color: var(--fill-color);\n",
              "    animation:\n",
              "      spin 1s steps(1) infinite;\n",
              "  }\n",
              "\n",
              "  @keyframes spin {\n",
              "    0% {\n",
              "      border-color: transparent;\n",
              "      border-bottom-color: var(--fill-color);\n",
              "      border-left-color: var(--fill-color);\n",
              "    }\n",
              "    20% {\n",
              "      border-color: transparent;\n",
              "      border-left-color: var(--fill-color);\n",
              "      border-top-color: var(--fill-color);\n",
              "    }\n",
              "    30% {\n",
              "      border-color: transparent;\n",
              "      border-left-color: var(--fill-color);\n",
              "      border-top-color: var(--fill-color);\n",
              "      border-right-color: var(--fill-color);\n",
              "    }\n",
              "    40% {\n",
              "      border-color: transparent;\n",
              "      border-right-color: var(--fill-color);\n",
              "      border-top-color: var(--fill-color);\n",
              "    }\n",
              "    60% {\n",
              "      border-color: transparent;\n",
              "      border-right-color: var(--fill-color);\n",
              "    }\n",
              "    80% {\n",
              "      border-color: transparent;\n",
              "      border-right-color: var(--fill-color);\n",
              "      border-bottom-color: var(--fill-color);\n",
              "    }\n",
              "    90% {\n",
              "      border-color: transparent;\n",
              "      border-bottom-color: var(--fill-color);\n",
              "    }\n",
              "  }\n",
              "</style>\n",
              "\n",
              "  <script>\n",
              "    async function quickchart(key) {\n",
              "      const quickchartButtonEl =\n",
              "        document.querySelector('#' + key + ' button');\n",
              "      quickchartButtonEl.disabled = true;  // To prevent multiple clicks.\n",
              "      quickchartButtonEl.classList.add('colab-df-spinner');\n",
              "      try {\n",
              "        const charts = await google.colab.kernel.invokeFunction(\n",
              "            'suggestCharts', [key], {});\n",
              "      } catch (error) {\n",
              "        console.error('Error during call to suggestCharts:', error);\n",
              "      }\n",
              "      quickchartButtonEl.classList.remove('colab-df-spinner');\n",
              "      quickchartButtonEl.classList.add('colab-df-quickchart-complete');\n",
              "    }\n",
              "    (() => {\n",
              "      let quickchartButtonEl =\n",
              "        document.querySelector('#df-df21e589-2214-4340-bfe9-d4d5cdb5b86c button');\n",
              "      quickchartButtonEl.style.display =\n",
              "        google.colab.kernel.accessAllowed ? 'block' : 'none';\n",
              "    })();\n",
              "  </script>\n",
              "</div>\n",
              "    </div>\n",
              "  </div>\n"
            ],
            "application/vnd.google.colaboratory.intrinsic+json": {
              "type": "dataframe",
              "variable_name": "X_train",
              "summary": "{\n  \"name\": \"X_train\",\n  \"rows\": 33006,\n  \"fields\": [\n    {\n      \"column\": \"CreditScore\",\n      \"properties\": {\n        \"dtype\": \"number\",\n        \"std\": 0.7064656828666337,\n        \"min\": -2.6548672566371683,\n        \"max\": 1.6902654867256637,\n        \"num_unique_values\": 442,\n        \"samples\": [\n          1.176991150442478,\n          -1.3539823008849559,\n          -0.5752212389380531\n        ],\n        \"semantic_type\": \"\",\n        \"description\": \"\"\n      }\n    },\n    {\n      \"column\": \"Gender\",\n      \"properties\": {\n        \"dtype\": \"number\",\n        \"std\": 0,\n        \"min\": 0,\n        \"max\": 1,\n        \"num_unique_values\": 2,\n        \"samples\": [\n          0,\n          1\n        ],\n        \"semantic_type\": \"\",\n        \"description\": \"\"\n      }\n    },\n    {\n      \"column\": \"Age\",\n      \"properties\": {\n        \"dtype\": \"number\",\n        \"std\": 0.8941719618644864,\n        \"min\": -1.9,\n        \"max\": 5.5,\n        \"num_unique_values\": 69,\n        \"samples\": [\n          1.0,\n          1.1\n        ],\n        \"semantic_type\": \"\",\n        \"description\": \"\"\n      }\n    },\n    {\n      \"column\": \"Tenure\",\n      \"properties\": {\n        \"dtype\": \"number\",\n        \"std\": 2,\n        \"min\": 0,\n        \"max\": 10,\n        \"num_unique_values\": 11,\n        \"samples\": [\n          1,\n          2\n        ],\n        \"semantic_type\": \"\",\n        \"description\": \"\"\n      }\n    },\n    {\n      \"column\": \"Balance\",\n      \"properties\": {\n        \"dtype\": \"number\",\n        \"std\": 0.2631652491435677,\n        \"min\": 0.0,\n        \"max\": 1.0,\n        \"num_unique_values\": 9787,\n        \"samples\": [\n          0.5091641107447049,\n          0.5199505796359508\n        ],\n        \"semantic_type\": \"\",\n        \"description\": \"\"\n      }\n    },\n    {\n      \"column\": \"NumOfProducts\",\n      \"properties\": {\n        \"dtype\": \"number\",\n        \"std\": 0,\n        \"min\": 1,\n        \"max\": 4,\n        \"num_unique_values\": 4,\n        \"samples\": [\n          2,\n          4\n        ],\n        \"semantic_type\": \"\",\n        \"description\": \"\"\n      }\n    },\n    {\n      \"column\": \"HasCrCard\",\n      \"properties\": {\n        \"dtype\": \"number\",\n        \"std\": 0,\n        \"min\": 0,\n        \"max\": 1,\n        \"num_unique_values\": 2,\n        \"samples\": [\n          0,\n          1\n        ],\n        \"semantic_type\": \"\",\n        \"description\": \"\"\n      }\n    },\n    {\n      \"column\": \"IsActiveMember\",\n      \"properties\": {\n        \"dtype\": \"number\",\n        \"std\": 0,\n        \"min\": 0,\n        \"max\": 1,\n        \"num_unique_values\": 2,\n        \"samples\": [\n          1,\n          0\n        ],\n        \"semantic_type\": \"\",\n        \"description\": \"\"\n      }\n    },\n    {\n      \"column\": \"EstimatedSalary\",\n      \"properties\": {\n        \"dtype\": \"number\",\n        \"std\": 0.25053309168760796,\n        \"min\": 0.0,\n        \"max\": 1.0,\n        \"num_unique_values\": 17827,\n        \"samples\": [\n          0.9484261746996838,\n          0.7154431748231955\n        ],\n        \"semantic_type\": \"\",\n        \"description\": \"\"\n      }\n    },\n    {\n      \"column\": \"Geography_France\",\n      \"properties\": {\n        \"dtype\": \"boolean\",\n        \"num_unique_values\": 2,\n        \"samples\": [\n          true,\n          false\n        ],\n        \"semantic_type\": \"\",\n        \"description\": \"\"\n      }\n    },\n    {\n      \"column\": \"Geography_Germany\",\n      \"properties\": {\n        \"dtype\": \"boolean\",\n        \"num_unique_values\": 2,\n        \"samples\": [\n          false,\n          true\n        ],\n        \"semantic_type\": \"\",\n        \"description\": \"\"\n      }\n    },\n    {\n      \"column\": \"Geography_Spain\",\n      \"properties\": {\n        \"dtype\": \"boolean\",\n        \"num_unique_values\": 2,\n        \"samples\": [\n          true,\n          false\n        ],\n        \"semantic_type\": \"\",\n        \"description\": \"\"\n      }\n    }\n  ]\n}"
            }
          },
          "metadata": {},
          "execution_count": 31
        }
      ]
    },
    {
      "cell_type": "code",
      "source": [
        "X_test.head(2)"
      ],
      "metadata": {
        "colab": {
          "base_uri": "https://localhost:8080/",
          "height": 132
        },
        "id": "lCitR_WP3auv",
        "outputId": "1de79072-1888-489d-da88-7d57aae124e3"
      },
      "execution_count": null,
      "outputs": [
        {
          "output_type": "execute_result",
          "data": {
            "text/plain": [
              "       CreditScore  Gender  Age  Tenure  Balance  NumOfProducts  HasCrCard  \\\n",
              "987      -0.070796       1  0.0       4  0.00000              1          1   \n",
              "18987    -0.973451       1 -1.1      10  0.47548              1          1   \n",
              "\n",
              "       IsActiveMember  EstimatedSalary  Geography_France  Geography_Germany  \\\n",
              "987                 0         0.249099              True              False   \n",
              "18987               1         0.556206             False               True   \n",
              "\n",
              "       Geography_Spain  \n",
              "987              False  \n",
              "18987            False  "
            ],
            "text/html": [
              "\n",
              "  <div id=\"df-fdf0e4ce-7cc9-4464-9835-10ed271c53ac\" class=\"colab-df-container\">\n",
              "    <div>\n",
              "<style scoped>\n",
              "    .dataframe tbody tr th:only-of-type {\n",
              "        vertical-align: middle;\n",
              "    }\n",
              "\n",
              "    .dataframe tbody tr th {\n",
              "        vertical-align: top;\n",
              "    }\n",
              "\n",
              "    .dataframe thead th {\n",
              "        text-align: right;\n",
              "    }\n",
              "</style>\n",
              "<table border=\"1\" class=\"dataframe\">\n",
              "  <thead>\n",
              "    <tr style=\"text-align: right;\">\n",
              "      <th></th>\n",
              "      <th>CreditScore</th>\n",
              "      <th>Gender</th>\n",
              "      <th>Age</th>\n",
              "      <th>Tenure</th>\n",
              "      <th>Balance</th>\n",
              "      <th>NumOfProducts</th>\n",
              "      <th>HasCrCard</th>\n",
              "      <th>IsActiveMember</th>\n",
              "      <th>EstimatedSalary</th>\n",
              "      <th>Geography_France</th>\n",
              "      <th>Geography_Germany</th>\n",
              "      <th>Geography_Spain</th>\n",
              "    </tr>\n",
              "  </thead>\n",
              "  <tbody>\n",
              "    <tr>\n",
              "      <th>987</th>\n",
              "      <td>-0.070796</td>\n",
              "      <td>1</td>\n",
              "      <td>0.0</td>\n",
              "      <td>4</td>\n",
              "      <td>0.00000</td>\n",
              "      <td>1</td>\n",
              "      <td>1</td>\n",
              "      <td>0</td>\n",
              "      <td>0.249099</td>\n",
              "      <td>True</td>\n",
              "      <td>False</td>\n",
              "      <td>False</td>\n",
              "    </tr>\n",
              "    <tr>\n",
              "      <th>18987</th>\n",
              "      <td>-0.973451</td>\n",
              "      <td>1</td>\n",
              "      <td>-1.1</td>\n",
              "      <td>10</td>\n",
              "      <td>0.47548</td>\n",
              "      <td>1</td>\n",
              "      <td>1</td>\n",
              "      <td>1</td>\n",
              "      <td>0.556206</td>\n",
              "      <td>False</td>\n",
              "      <td>True</td>\n",
              "      <td>False</td>\n",
              "    </tr>\n",
              "  </tbody>\n",
              "</table>\n",
              "</div>\n",
              "    <div class=\"colab-df-buttons\">\n",
              "\n",
              "  <div class=\"colab-df-container\">\n",
              "    <button class=\"colab-df-convert\" onclick=\"convertToInteractive('df-fdf0e4ce-7cc9-4464-9835-10ed271c53ac')\"\n",
              "            title=\"Convert this dataframe to an interactive table.\"\n",
              "            style=\"display:none;\">\n",
              "\n",
              "  <svg xmlns=\"http://www.w3.org/2000/svg\" height=\"24px\" viewBox=\"0 -960 960 960\">\n",
              "    <path d=\"M120-120v-720h720v720H120Zm60-500h600v-160H180v160Zm220 220h160v-160H400v160Zm0 220h160v-160H400v160ZM180-400h160v-160H180v160Zm440 0h160v-160H620v160ZM180-180h160v-160H180v160Zm440 0h160v-160H620v160Z\"/>\n",
              "  </svg>\n",
              "    </button>\n",
              "\n",
              "  <style>\n",
              "    .colab-df-container {\n",
              "      display:flex;\n",
              "      gap: 12px;\n",
              "    }\n",
              "\n",
              "    .colab-df-convert {\n",
              "      background-color: #E8F0FE;\n",
              "      border: none;\n",
              "      border-radius: 50%;\n",
              "      cursor: pointer;\n",
              "      display: none;\n",
              "      fill: #1967D2;\n",
              "      height: 32px;\n",
              "      padding: 0 0 0 0;\n",
              "      width: 32px;\n",
              "    }\n",
              "\n",
              "    .colab-df-convert:hover {\n",
              "      background-color: #E2EBFA;\n",
              "      box-shadow: 0px 1px 2px rgba(60, 64, 67, 0.3), 0px 1px 3px 1px rgba(60, 64, 67, 0.15);\n",
              "      fill: #174EA6;\n",
              "    }\n",
              "\n",
              "    .colab-df-buttons div {\n",
              "      margin-bottom: 4px;\n",
              "    }\n",
              "\n",
              "    [theme=dark] .colab-df-convert {\n",
              "      background-color: #3B4455;\n",
              "      fill: #D2E3FC;\n",
              "    }\n",
              "\n",
              "    [theme=dark] .colab-df-convert:hover {\n",
              "      background-color: #434B5C;\n",
              "      box-shadow: 0px 1px 3px 1px rgba(0, 0, 0, 0.15);\n",
              "      filter: drop-shadow(0px 1px 2px rgba(0, 0, 0, 0.3));\n",
              "      fill: #FFFFFF;\n",
              "    }\n",
              "  </style>\n",
              "\n",
              "    <script>\n",
              "      const buttonEl =\n",
              "        document.querySelector('#df-fdf0e4ce-7cc9-4464-9835-10ed271c53ac button.colab-df-convert');\n",
              "      buttonEl.style.display =\n",
              "        google.colab.kernel.accessAllowed ? 'block' : 'none';\n",
              "\n",
              "      async function convertToInteractive(key) {\n",
              "        const element = document.querySelector('#df-fdf0e4ce-7cc9-4464-9835-10ed271c53ac');\n",
              "        const dataTable =\n",
              "          await google.colab.kernel.invokeFunction('convertToInteractive',\n",
              "                                                    [key], {});\n",
              "        if (!dataTable) return;\n",
              "\n",
              "        const docLinkHtml = 'Like what you see? Visit the ' +\n",
              "          '<a target=\"_blank\" href=https://colab.research.google.com/notebooks/data_table.ipynb>data table notebook</a>'\n",
              "          + ' to learn more about interactive tables.';\n",
              "        element.innerHTML = '';\n",
              "        dataTable['output_type'] = 'display_data';\n",
              "        await google.colab.output.renderOutput(dataTable, element);\n",
              "        const docLink = document.createElement('div');\n",
              "        docLink.innerHTML = docLinkHtml;\n",
              "        element.appendChild(docLink);\n",
              "      }\n",
              "    </script>\n",
              "  </div>\n",
              "\n",
              "\n",
              "<div id=\"df-a5b59adc-035e-4f8d-861d-755d12297ff5\">\n",
              "  <button class=\"colab-df-quickchart\" onclick=\"quickchart('df-a5b59adc-035e-4f8d-861d-755d12297ff5')\"\n",
              "            title=\"Suggest charts\"\n",
              "            style=\"display:none;\">\n",
              "\n",
              "<svg xmlns=\"http://www.w3.org/2000/svg\" height=\"24px\"viewBox=\"0 0 24 24\"\n",
              "     width=\"24px\">\n",
              "    <g>\n",
              "        <path d=\"M19 3H5c-1.1 0-2 .9-2 2v14c0 1.1.9 2 2 2h14c1.1 0 2-.9 2-2V5c0-1.1-.9-2-2-2zM9 17H7v-7h2v7zm4 0h-2V7h2v10zm4 0h-2v-4h2v4z\"/>\n",
              "    </g>\n",
              "</svg>\n",
              "  </button>\n",
              "\n",
              "<style>\n",
              "  .colab-df-quickchart {\n",
              "      --bg-color: #E8F0FE;\n",
              "      --fill-color: #1967D2;\n",
              "      --hover-bg-color: #E2EBFA;\n",
              "      --hover-fill-color: #174EA6;\n",
              "      --disabled-fill-color: #AAA;\n",
              "      --disabled-bg-color: #DDD;\n",
              "  }\n",
              "\n",
              "  [theme=dark] .colab-df-quickchart {\n",
              "      --bg-color: #3B4455;\n",
              "      --fill-color: #D2E3FC;\n",
              "      --hover-bg-color: #434B5C;\n",
              "      --hover-fill-color: #FFFFFF;\n",
              "      --disabled-bg-color: #3B4455;\n",
              "      --disabled-fill-color: #666;\n",
              "  }\n",
              "\n",
              "  .colab-df-quickchart {\n",
              "    background-color: var(--bg-color);\n",
              "    border: none;\n",
              "    border-radius: 50%;\n",
              "    cursor: pointer;\n",
              "    display: none;\n",
              "    fill: var(--fill-color);\n",
              "    height: 32px;\n",
              "    padding: 0;\n",
              "    width: 32px;\n",
              "  }\n",
              "\n",
              "  .colab-df-quickchart:hover {\n",
              "    background-color: var(--hover-bg-color);\n",
              "    box-shadow: 0 1px 2px rgba(60, 64, 67, 0.3), 0 1px 3px 1px rgba(60, 64, 67, 0.15);\n",
              "    fill: var(--button-hover-fill-color);\n",
              "  }\n",
              "\n",
              "  .colab-df-quickchart-complete:disabled,\n",
              "  .colab-df-quickchart-complete:disabled:hover {\n",
              "    background-color: var(--disabled-bg-color);\n",
              "    fill: var(--disabled-fill-color);\n",
              "    box-shadow: none;\n",
              "  }\n",
              "\n",
              "  .colab-df-spinner {\n",
              "    border: 2px solid var(--fill-color);\n",
              "    border-color: transparent;\n",
              "    border-bottom-color: var(--fill-color);\n",
              "    animation:\n",
              "      spin 1s steps(1) infinite;\n",
              "  }\n",
              "\n",
              "  @keyframes spin {\n",
              "    0% {\n",
              "      border-color: transparent;\n",
              "      border-bottom-color: var(--fill-color);\n",
              "      border-left-color: var(--fill-color);\n",
              "    }\n",
              "    20% {\n",
              "      border-color: transparent;\n",
              "      border-left-color: var(--fill-color);\n",
              "      border-top-color: var(--fill-color);\n",
              "    }\n",
              "    30% {\n",
              "      border-color: transparent;\n",
              "      border-left-color: var(--fill-color);\n",
              "      border-top-color: var(--fill-color);\n",
              "      border-right-color: var(--fill-color);\n",
              "    }\n",
              "    40% {\n",
              "      border-color: transparent;\n",
              "      border-right-color: var(--fill-color);\n",
              "      border-top-color: var(--fill-color);\n",
              "    }\n",
              "    60% {\n",
              "      border-color: transparent;\n",
              "      border-right-color: var(--fill-color);\n",
              "    }\n",
              "    80% {\n",
              "      border-color: transparent;\n",
              "      border-right-color: var(--fill-color);\n",
              "      border-bottom-color: var(--fill-color);\n",
              "    }\n",
              "    90% {\n",
              "      border-color: transparent;\n",
              "      border-bottom-color: var(--fill-color);\n",
              "    }\n",
              "  }\n",
              "</style>\n",
              "\n",
              "  <script>\n",
              "    async function quickchart(key) {\n",
              "      const quickchartButtonEl =\n",
              "        document.querySelector('#' + key + ' button');\n",
              "      quickchartButtonEl.disabled = true;  // To prevent multiple clicks.\n",
              "      quickchartButtonEl.classList.add('colab-df-spinner');\n",
              "      try {\n",
              "        const charts = await google.colab.kernel.invokeFunction(\n",
              "            'suggestCharts', [key], {});\n",
              "      } catch (error) {\n",
              "        console.error('Error during call to suggestCharts:', error);\n",
              "      }\n",
              "      quickchartButtonEl.classList.remove('colab-df-spinner');\n",
              "      quickchartButtonEl.classList.add('colab-df-quickchart-complete');\n",
              "    }\n",
              "    (() => {\n",
              "      let quickchartButtonEl =\n",
              "        document.querySelector('#df-a5b59adc-035e-4f8d-861d-755d12297ff5 button');\n",
              "      quickchartButtonEl.style.display =\n",
              "        google.colab.kernel.accessAllowed ? 'block' : 'none';\n",
              "    })();\n",
              "  </script>\n",
              "</div>\n",
              "    </div>\n",
              "  </div>\n"
            ],
            "application/vnd.google.colaboratory.intrinsic+json": {
              "type": "dataframe",
              "variable_name": "X_test",
              "summary": "{\n  \"name\": \"X_test\",\n  \"rows\": 8252,\n  \"fields\": [\n    {\n      \"column\": \"CreditScore\",\n      \"properties\": {\n        \"dtype\": \"number\",\n        \"std\": 0.701809161245323,\n        \"min\": -2.734513274336283,\n        \"max\": 1.6902654867256637,\n        \"num_unique_values\": 415,\n        \"samples\": [\n          0.6991150442477876,\n          -1.2212389380530972,\n          1.168141592920354\n        ],\n        \"semantic_type\": \"\",\n        \"description\": \"\"\n      }\n    },\n    {\n      \"column\": \"Gender\",\n      \"properties\": {\n        \"dtype\": \"number\",\n        \"std\": 0,\n        \"min\": 0,\n        \"max\": 1,\n        \"num_unique_values\": 2,\n        \"samples\": [\n          0,\n          1\n        ],\n        \"semantic_type\": \"\",\n        \"description\": \"\"\n      }\n    },\n    {\n      \"column\": \"Age\",\n      \"properties\": {\n        \"dtype\": \"number\",\n        \"std\": 0.8971748713914789,\n        \"min\": -1.9,\n        \"max\": 4.6,\n        \"num_unique_values\": 62,\n        \"samples\": [\n          -1.7,\n          3.9\n        ],\n        \"semantic_type\": \"\",\n        \"description\": \"\"\n      }\n    },\n    {\n      \"column\": \"Tenure\",\n      \"properties\": {\n        \"dtype\": \"number\",\n        \"std\": 2,\n        \"min\": 0,\n        \"max\": 10,\n        \"num_unique_values\": 11,\n        \"samples\": [\n          8,\n          4\n        ],\n        \"semantic_type\": \"\",\n        \"description\": \"\"\n      }\n    },\n    {\n      \"column\": \"Balance\",\n      \"properties\": {\n        \"dtype\": \"number\",\n        \"std\": 0.2644306639620543,\n        \"min\": 0.0,\n        \"max\": 0.8684805532637693,\n        \"num_unique_values\": 3167,\n        \"samples\": [\n          0.4085917067148973,\n          0.5277164211085511\n        ],\n        \"semantic_type\": \"\",\n        \"description\": \"\"\n      }\n    },\n    {\n      \"column\": \"NumOfProducts\",\n      \"properties\": {\n        \"dtype\": \"number\",\n        \"std\": 0,\n        \"min\": 1,\n        \"max\": 4,\n        \"num_unique_values\": 4,\n        \"samples\": [\n          2,\n          3\n        ],\n        \"semantic_type\": \"\",\n        \"description\": \"\"\n      }\n    },\n    {\n      \"column\": \"HasCrCard\",\n      \"properties\": {\n        \"dtype\": \"number\",\n        \"std\": 0,\n        \"min\": 0,\n        \"max\": 1,\n        \"num_unique_values\": 2,\n        \"samples\": [\n          0,\n          1\n        ],\n        \"semantic_type\": \"\",\n        \"description\": \"\"\n      }\n    },\n    {\n      \"column\": \"IsActiveMember\",\n      \"properties\": {\n        \"dtype\": \"number\",\n        \"std\": 0,\n        \"min\": 0,\n        \"max\": 1,\n        \"num_unique_values\": 2,\n        \"samples\": [\n          1,\n          0\n        ],\n        \"semantic_type\": \"\",\n        \"description\": \"\"\n      }\n    },\n    {\n      \"column\": \"EstimatedSalary\",\n      \"properties\": {\n        \"dtype\": \"number\",\n        \"std\": 0.2492131080390089,\n        \"min\": 0.000475495409811637,\n        \"max\": 0.9998912896181584,\n        \"num_unique_values\": 6395,\n        \"samples\": [\n          0.5770137548135846,\n          0.3791662103730906\n        ],\n        \"semantic_type\": \"\",\n        \"description\": \"\"\n      }\n    },\n    {\n      \"column\": \"Geography_France\",\n      \"properties\": {\n        \"dtype\": \"boolean\",\n        \"num_unique_values\": 2,\n        \"samples\": [\n          false,\n          true\n        ],\n        \"semantic_type\": \"\",\n        \"description\": \"\"\n      }\n    },\n    {\n      \"column\": \"Geography_Germany\",\n      \"properties\": {\n        \"dtype\": \"boolean\",\n        \"num_unique_values\": 2,\n        \"samples\": [\n          true,\n          false\n        ],\n        \"semantic_type\": \"\",\n        \"description\": \"\"\n      }\n    },\n    {\n      \"column\": \"Geography_Spain\",\n      \"properties\": {\n        \"dtype\": \"boolean\",\n        \"num_unique_values\": 2,\n        \"samples\": [\n          true,\n          false\n        ],\n        \"semantic_type\": \"\",\n        \"description\": \"\"\n      }\n    }\n  ]\n}"
            }
          },
          "metadata": {},
          "execution_count": 32
        }
      ]
    },
    {
      "cell_type": "markdown",
      "source": [
        "# Modelling : Random Forest"
      ],
      "metadata": {
        "id": "zNujMiT_Gh6j"
      }
    },
    {
      "cell_type": "code",
      "source": [
        "from sklearn.ensemble import RandomForestClassifier\n",
        "import warnings\n",
        "warnings.filterwarnings('ignore')\n",
        "\n",
        "RF_model = RandomForestClassifier()\n",
        "RF_model.fit(X_train, y_train)"
      ],
      "metadata": {
        "id": "eMQBAq0q3aw_",
        "colab": {
          "base_uri": "https://localhost:8080/",
          "height": 74
        },
        "outputId": "5e371a20-53df-4ca4-f8ff-2f9c8945f699"
      },
      "execution_count": null,
      "outputs": [
        {
          "output_type": "execute_result",
          "data": {
            "text/plain": [
              "RandomForestClassifier()"
            ],
            "text/html": [
              "<style>#sk-container-id-1 {color: black;background-color: white;}#sk-container-id-1 pre{padding: 0;}#sk-container-id-1 div.sk-toggleable {background-color: white;}#sk-container-id-1 label.sk-toggleable__label {cursor: pointer;display: block;width: 100%;margin-bottom: 0;padding: 0.3em;box-sizing: border-box;text-align: center;}#sk-container-id-1 label.sk-toggleable__label-arrow:before {content: \"▸\";float: left;margin-right: 0.25em;color: #696969;}#sk-container-id-1 label.sk-toggleable__label-arrow:hover:before {color: black;}#sk-container-id-1 div.sk-estimator:hover label.sk-toggleable__label-arrow:before {color: black;}#sk-container-id-1 div.sk-toggleable__content {max-height: 0;max-width: 0;overflow: hidden;text-align: left;background-color: #f0f8ff;}#sk-container-id-1 div.sk-toggleable__content pre {margin: 0.2em;color: black;border-radius: 0.25em;background-color: #f0f8ff;}#sk-container-id-1 input.sk-toggleable__control:checked~div.sk-toggleable__content {max-height: 200px;max-width: 100%;overflow: auto;}#sk-container-id-1 input.sk-toggleable__control:checked~label.sk-toggleable__label-arrow:before {content: \"▾\";}#sk-container-id-1 div.sk-estimator input.sk-toggleable__control:checked~label.sk-toggleable__label {background-color: #d4ebff;}#sk-container-id-1 div.sk-label input.sk-toggleable__control:checked~label.sk-toggleable__label {background-color: #d4ebff;}#sk-container-id-1 input.sk-hidden--visually {border: 0;clip: rect(1px 1px 1px 1px);clip: rect(1px, 1px, 1px, 1px);height: 1px;margin: -1px;overflow: hidden;padding: 0;position: absolute;width: 1px;}#sk-container-id-1 div.sk-estimator {font-family: monospace;background-color: #f0f8ff;border: 1px dotted black;border-radius: 0.25em;box-sizing: border-box;margin-bottom: 0.5em;}#sk-container-id-1 div.sk-estimator:hover {background-color: #d4ebff;}#sk-container-id-1 div.sk-parallel-item::after {content: \"\";width: 100%;border-bottom: 1px solid gray;flex-grow: 1;}#sk-container-id-1 div.sk-label:hover label.sk-toggleable__label {background-color: #d4ebff;}#sk-container-id-1 div.sk-serial::before {content: \"\";position: absolute;border-left: 1px solid gray;box-sizing: border-box;top: 0;bottom: 0;left: 50%;z-index: 0;}#sk-container-id-1 div.sk-serial {display: flex;flex-direction: column;align-items: center;background-color: white;padding-right: 0.2em;padding-left: 0.2em;position: relative;}#sk-container-id-1 div.sk-item {position: relative;z-index: 1;}#sk-container-id-1 div.sk-parallel {display: flex;align-items: stretch;justify-content: center;background-color: white;position: relative;}#sk-container-id-1 div.sk-item::before, #sk-container-id-1 div.sk-parallel-item::before {content: \"\";position: absolute;border-left: 1px solid gray;box-sizing: border-box;top: 0;bottom: 0;left: 50%;z-index: -1;}#sk-container-id-1 div.sk-parallel-item {display: flex;flex-direction: column;z-index: 1;position: relative;background-color: white;}#sk-container-id-1 div.sk-parallel-item:first-child::after {align-self: flex-end;width: 50%;}#sk-container-id-1 div.sk-parallel-item:last-child::after {align-self: flex-start;width: 50%;}#sk-container-id-1 div.sk-parallel-item:only-child::after {width: 0;}#sk-container-id-1 div.sk-dashed-wrapped {border: 1px dashed gray;margin: 0 0.4em 0.5em 0.4em;box-sizing: border-box;padding-bottom: 0.4em;background-color: white;}#sk-container-id-1 div.sk-label label {font-family: monospace;font-weight: bold;display: inline-block;line-height: 1.2em;}#sk-container-id-1 div.sk-label-container {text-align: center;}#sk-container-id-1 div.sk-container {/* jupyter's `normalize.less` sets `[hidden] { display: none; }` but bootstrap.min.css set `[hidden] { display: none !important; }` so we also need the `!important` here to be able to override the default hidden behavior on the sphinx rendered scikit-learn.org. See: https://github.com/scikit-learn/scikit-learn/issues/21755 */display: inline-block !important;position: relative;}#sk-container-id-1 div.sk-text-repr-fallback {display: none;}</style><div id=\"sk-container-id-1\" class=\"sk-top-container\"><div class=\"sk-text-repr-fallback\"><pre>RandomForestClassifier()</pre><b>In a Jupyter environment, please rerun this cell to show the HTML representation or trust the notebook. <br />On GitHub, the HTML representation is unable to render, please try loading this page with nbviewer.org.</b></div><div class=\"sk-container\" hidden><div class=\"sk-item\"><div class=\"sk-estimator sk-toggleable\"><input class=\"sk-toggleable__control sk-hidden--visually\" id=\"sk-estimator-id-1\" type=\"checkbox\" checked><label for=\"sk-estimator-id-1\" class=\"sk-toggleable__label sk-toggleable__label-arrow\">RandomForestClassifier</label><div class=\"sk-toggleable__content\"><pre>RandomForestClassifier()</pre></div></div></div></div></div>"
            ]
          },
          "metadata": {},
          "execution_count": 33
        }
      ]
    },
    {
      "cell_type": "code",
      "source": [
        "y_predict_RF = RF_model.predict(X_test)"
      ],
      "metadata": {
        "id": "uVHMjehN3a0b"
      },
      "execution_count": null,
      "outputs": []
    },
    {
      "cell_type": "code",
      "source": [
        "from sklearn.metrics import classification_report\n",
        "print('\\nClassification Report RF\\n')\n",
        "print(classification_report(y_test, y_predict_RF))"
      ],
      "metadata": {
        "colab": {
          "base_uri": "https://localhost:8080/"
        },
        "id": "dlJ7ToJXHrC4",
        "outputId": "3860e96d-3c8f-424d-89a4-d8411d795654"
      },
      "execution_count": null,
      "outputs": [
        {
          "output_type": "stream",
          "name": "stdout",
          "text": [
            "\n",
            "Classification Report RF\n",
            "\n",
            "              precision    recall  f1-score   support\n",
            "\n",
            "           0       0.88      0.94      0.91      6482\n",
            "           1       0.72      0.53      0.61      1770\n",
            "\n",
            "    accuracy                           0.85      8252\n",
            "   macro avg       0.80      0.74      0.76      8252\n",
            "weighted avg       0.85      0.85      0.85      8252\n",
            "\n"
          ]
        }
      ]
    },
    {
      "cell_type": "markdown",
      "source": [
        "Tuned Random Forest"
      ],
      "metadata": {
        "id": "fq1aeFD7MRgH"
      }
    },
    {
      "cell_type": "code",
      "source": [
        "from sklearn.model_selection import GridSearchCV\n",
        "\n",
        "parameters = {\n",
        "    'criterion':['gini', 'entropy', 'log_loss'],\n",
        "    'max_depth':[2,4,6,8],\n",
        "}"
      ],
      "metadata": {
        "id": "xe0RB1rzHrFR"
      },
      "execution_count": null,
      "outputs": []
    },
    {
      "cell_type": "code",
      "source": [
        "RF_model2 = RandomForestClassifier()"
      ],
      "metadata": {
        "id": "nGPyAfOlMZVV"
      },
      "execution_count": null,
      "outputs": []
    },
    {
      "cell_type": "code",
      "source": [
        "RF_model2= GridSearchCV(RF_model2 ,\n",
        "                            param_grid = parameters,\n",
        "                            scoring='accuracy',\n",
        "                            cv=5)"
      ],
      "metadata": {
        "id": "4GxxJprxMZXt"
      },
      "execution_count": null,
      "outputs": []
    },
    {
      "cell_type": "code",
      "source": [
        "RF_model2.fit(X_train,y_train)\n",
        "print(\"Tuned Hyperparameters :\", RF_model2.best_params_)\n",
        "print(\"Accuracy :\",RF_model2.best_score_)"
      ],
      "metadata": {
        "colab": {
          "base_uri": "https://localhost:8080/"
        },
        "id": "SDpEXRwBMZZ0",
        "outputId": "d009c38d-4e1d-4dc1-8d65-5cb900ca9b97"
      },
      "execution_count": null,
      "outputs": [
        {
          "output_type": "stream",
          "name": "stdout",
          "text": [
            "Tuned Hyperparameters : {'criterion': 'gini', 'max_depth': 8}\n",
            "Accuracy : 0.8617827405457235\n"
          ]
        }
      ]
    },
    {
      "cell_type": "code",
      "source": [
        "RF_model_best = RandomForestClassifier(criterion= 'gini',max_depth=8)\n",
        "RF_model_best.fit(X_train,y_train)"
      ],
      "metadata": {
        "colab": {
          "base_uri": "https://localhost:8080/",
          "height": 74
        },
        "id": "-rfEI2NlMZcC",
        "outputId": "2a3f32da-6581-4e0b-8e1c-a6b3fae8b72b"
      },
      "execution_count": null,
      "outputs": [
        {
          "output_type": "execute_result",
          "data": {
            "text/plain": [
              "RandomForestClassifier(max_depth=8)"
            ],
            "text/html": [
              "<style>#sk-container-id-2 {color: black;background-color: white;}#sk-container-id-2 pre{padding: 0;}#sk-container-id-2 div.sk-toggleable {background-color: white;}#sk-container-id-2 label.sk-toggleable__label {cursor: pointer;display: block;width: 100%;margin-bottom: 0;padding: 0.3em;box-sizing: border-box;text-align: center;}#sk-container-id-2 label.sk-toggleable__label-arrow:before {content: \"▸\";float: left;margin-right: 0.25em;color: #696969;}#sk-container-id-2 label.sk-toggleable__label-arrow:hover:before {color: black;}#sk-container-id-2 div.sk-estimator:hover label.sk-toggleable__label-arrow:before {color: black;}#sk-container-id-2 div.sk-toggleable__content {max-height: 0;max-width: 0;overflow: hidden;text-align: left;background-color: #f0f8ff;}#sk-container-id-2 div.sk-toggleable__content pre {margin: 0.2em;color: black;border-radius: 0.25em;background-color: #f0f8ff;}#sk-container-id-2 input.sk-toggleable__control:checked~div.sk-toggleable__content {max-height: 200px;max-width: 100%;overflow: auto;}#sk-container-id-2 input.sk-toggleable__control:checked~label.sk-toggleable__label-arrow:before {content: \"▾\";}#sk-container-id-2 div.sk-estimator input.sk-toggleable__control:checked~label.sk-toggleable__label {background-color: #d4ebff;}#sk-container-id-2 div.sk-label input.sk-toggleable__control:checked~label.sk-toggleable__label {background-color: #d4ebff;}#sk-container-id-2 input.sk-hidden--visually {border: 0;clip: rect(1px 1px 1px 1px);clip: rect(1px, 1px, 1px, 1px);height: 1px;margin: -1px;overflow: hidden;padding: 0;position: absolute;width: 1px;}#sk-container-id-2 div.sk-estimator {font-family: monospace;background-color: #f0f8ff;border: 1px dotted black;border-radius: 0.25em;box-sizing: border-box;margin-bottom: 0.5em;}#sk-container-id-2 div.sk-estimator:hover {background-color: #d4ebff;}#sk-container-id-2 div.sk-parallel-item::after {content: \"\";width: 100%;border-bottom: 1px solid gray;flex-grow: 1;}#sk-container-id-2 div.sk-label:hover label.sk-toggleable__label {background-color: #d4ebff;}#sk-container-id-2 div.sk-serial::before {content: \"\";position: absolute;border-left: 1px solid gray;box-sizing: border-box;top: 0;bottom: 0;left: 50%;z-index: 0;}#sk-container-id-2 div.sk-serial {display: flex;flex-direction: column;align-items: center;background-color: white;padding-right: 0.2em;padding-left: 0.2em;position: relative;}#sk-container-id-2 div.sk-item {position: relative;z-index: 1;}#sk-container-id-2 div.sk-parallel {display: flex;align-items: stretch;justify-content: center;background-color: white;position: relative;}#sk-container-id-2 div.sk-item::before, #sk-container-id-2 div.sk-parallel-item::before {content: \"\";position: absolute;border-left: 1px solid gray;box-sizing: border-box;top: 0;bottom: 0;left: 50%;z-index: -1;}#sk-container-id-2 div.sk-parallel-item {display: flex;flex-direction: column;z-index: 1;position: relative;background-color: white;}#sk-container-id-2 div.sk-parallel-item:first-child::after {align-self: flex-end;width: 50%;}#sk-container-id-2 div.sk-parallel-item:last-child::after {align-self: flex-start;width: 50%;}#sk-container-id-2 div.sk-parallel-item:only-child::after {width: 0;}#sk-container-id-2 div.sk-dashed-wrapped {border: 1px dashed gray;margin: 0 0.4em 0.5em 0.4em;box-sizing: border-box;padding-bottom: 0.4em;background-color: white;}#sk-container-id-2 div.sk-label label {font-family: monospace;font-weight: bold;display: inline-block;line-height: 1.2em;}#sk-container-id-2 div.sk-label-container {text-align: center;}#sk-container-id-2 div.sk-container {/* jupyter's `normalize.less` sets `[hidden] { display: none; }` but bootstrap.min.css set `[hidden] { display: none !important; }` so we also need the `!important` here to be able to override the default hidden behavior on the sphinx rendered scikit-learn.org. See: https://github.com/scikit-learn/scikit-learn/issues/21755 */display: inline-block !important;position: relative;}#sk-container-id-2 div.sk-text-repr-fallback {display: none;}</style><div id=\"sk-container-id-2\" class=\"sk-top-container\"><div class=\"sk-text-repr-fallback\"><pre>RandomForestClassifier(max_depth=8)</pre><b>In a Jupyter environment, please rerun this cell to show the HTML representation or trust the notebook. <br />On GitHub, the HTML representation is unable to render, please try loading this page with nbviewer.org.</b></div><div class=\"sk-container\" hidden><div class=\"sk-item\"><div class=\"sk-estimator sk-toggleable\"><input class=\"sk-toggleable__control sk-hidden--visually\" id=\"sk-estimator-id-2\" type=\"checkbox\" checked><label for=\"sk-estimator-id-2\" class=\"sk-toggleable__label sk-toggleable__label-arrow\">RandomForestClassifier</label><div class=\"sk-toggleable__content\"><pre>RandomForestClassifier(max_depth=8)</pre></div></div></div></div></div>"
            ]
          },
          "metadata": {},
          "execution_count": 40
        }
      ]
    },
    {
      "cell_type": "code",
      "source": [
        "y_predict_best=RF_model_best.predict(X_test)"
      ],
      "metadata": {
        "id": "7xIz80KNMZfR"
      },
      "execution_count": null,
      "outputs": []
    },
    {
      "cell_type": "code",
      "source": [
        "print('\\nClassification Report Best RF\\n')\n",
        "print(classification_report(y_test, y_predict_best))"
      ],
      "metadata": {
        "colab": {
          "base_uri": "https://localhost:8080/"
        },
        "id": "2RNzJ0RoHrIp",
        "outputId": "5c66f8e9-e76a-4846-8d97-f6400ad7f716"
      },
      "execution_count": null,
      "outputs": [
        {
          "output_type": "stream",
          "name": "stdout",
          "text": [
            "\n",
            "Classification Report Best RF\n",
            "\n",
            "              precision    recall  f1-score   support\n",
            "\n",
            "           0       0.88      0.96      0.92      6482\n",
            "           1       0.78      0.50      0.61      1770\n",
            "\n",
            "    accuracy                           0.86      8252\n",
            "   macro avg       0.83      0.73      0.76      8252\n",
            "weighted avg       0.86      0.86      0.85      8252\n",
            "\n"
          ]
        }
      ]
    },
    {
      "cell_type": "code",
      "source": [
        "from sklearn.metrics import roc_auc_score\n",
        "\n",
        "y_pred_proba = RF_model_best.predict_proba(X_test)[:, 1]\n",
        "auc_score = roc_auc_score(y_test, y_pred_proba)\n",
        "print(\"Nilai AUC:\", auc_score)"
      ],
      "metadata": {
        "colab": {
          "base_uri": "https://localhost:8080/"
        },
        "id": "Rl_XRABNRuC5",
        "outputId": "5e42018e-bb83-4368-ae83-5301ecace416"
      },
      "execution_count": null,
      "outputs": [
        {
          "output_type": "stream",
          "name": "stdout",
          "text": [
            "Nilai AUC: 0.8875075611384503\n"
          ]
        }
      ]
    },
    {
      "cell_type": "code",
      "source": [
        "import matplotlib.pyplot as plt\n",
        "from sklearn.metrics import roc_curve, auc\n",
        "\n",
        "y_pred_proba = RF_model_best.predict_proba(X_test)[:, 1]\n",
        "fpr, tpr, thresholds = roc_curve(y_test, y_pred_proba)\n",
        "roc_auc = auc(fpr, tpr)\n",
        "\n",
        "plt.figure()\n",
        "plt.plot(fpr, tpr, color='darkorange', lw=2, label='ROC curve (area = %0.2f)' % roc_auc)\n",
        "plt.plot([0, 1], [0, 1], color='navy', lw=2, linestyle='--')\n",
        "plt.xlim([0.0, 1.0])\n",
        "plt.ylim([0.0, 1.05])\n",
        "plt.xlabel('False Positive Rate')\n",
        "plt.ylabel('True Positive Rate')\n",
        "plt.title('Receiver Operating Characteristic (ROC)')\n",
        "plt.legend(loc=\"lower right\")\n",
        "plt.show()"
      ],
      "metadata": {
        "colab": {
          "base_uri": "https://localhost:8080/",
          "height": 472
        },
        "id": "XqhX8jxURuGP",
        "outputId": "e4a988d8-8a26-4103-bace-2287c64a2f22"
      },
      "execution_count": null,
      "outputs": [
        {
          "output_type": "display_data",
          "data": {
            "text/plain": [
              "<Figure size 640x480 with 1 Axes>"
            ],
            "image/png": "[encoded data removed]"
          },
          "metadata": {}
        }
      ]
    },
    {
      "cell_type": "markdown",
      "source": [
        "# Modelling : XGBoost"
      ],
      "metadata": {
        "id": "yAlkNYNxNu0V"
      }
    },
    {
      "cell_type": "code",
      "source": [
        "import xgboost as xgb\n",
        "model_xgb = xgb.XGBClassifier(objective='binary:logistic', random_state=42)\n",
        "\n",
        "# Melatih model\n",
        "model_xgb.fit(X_train, y_train)\n",
        "\n",
        "# Memprediksi data uji\n",
        "y_pred = model_xgb.predict(X_test)"
      ],
      "metadata": {
        "id": "1h349ZB0NaBH"
      },
      "execution_count": null,
      "outputs": []
    },
    {
      "cell_type": "code",
      "source": [
        "print('\\nClassification Report XGB\\n')\n",
        "print(classification_report(y_test, y_pred))"
      ],
      "metadata": {
        "colab": {
          "base_uri": "https://localhost:8080/"
        },
        "id": "QSRwuSjuNaDt",
        "outputId": "7be1da26-6085-419e-d241-b6d6067f2773"
      },
      "execution_count": null,
      "outputs": [
        {
          "output_type": "stream",
          "name": "stdout",
          "text": [
            "\n",
            "Classification Report XGB\n",
            "\n",
            "              precision    recall  f1-score   support\n",
            "\n",
            "           0       0.88      0.94      0.91      6482\n",
            "           1       0.70      0.55      0.61      1770\n",
            "\n",
            "    accuracy                           0.85      8252\n",
            "   macro avg       0.79      0.74      0.76      8252\n",
            "weighted avg       0.84      0.85      0.85      8252\n",
            "\n"
          ]
        }
      ]
    },
    {
      "cell_type": "code",
      "source": [
        "param_grid = {\n",
        "    'learning_rate': [0.1, 0.01, 0.001],\n",
        "    'n_estimators': [100, 200, 300],\n",
        "    'max_depth': [3, 5, 7]\n",
        "}\n",
        "\n",
        "# Mencari parameter terbaik menggunakan GridSearchCV\n",
        "grid_search = GridSearchCV(estimator=model_xgb, param_grid=param_grid, cv=3, scoring='accuracy')\n",
        "grid_search.fit(X_train, y_train)"
      ],
      "metadata": {
        "colab": {
          "base_uri": "https://localhost:8080/",
          "height": 116
        },
        "id": "fjncoJz2NaGA",
        "outputId": "c6b2f1cd-5d38-4033-dcc8-bb0966eddbee"
      },
      "execution_count": null,
      "outputs": [
        {
          "output_type": "execute_result",
          "data": {
            "text/plain": [
              "GridSearchCV(cv=3,\n",
              "             estimator=XGBClassifier(base_score=None, booster=None,\n",
              "                                     callbacks=None, colsample_bylevel=None,\n",
              "                                     colsample_bynode=None,\n",
              "                                     colsample_bytree=None, device=None,\n",
              "                                     early_stopping_rounds=None,\n",
              "                                     enable_categorical=False, eval_metric=None,\n",
              "                                     feature_types=None, gamma=None,\n",
              "                                     grow_policy=None, importance_type=None,\n",
              "                                     interaction_constraints=None,\n",
              "                                     learning_rate=None,...\n",
              "                                     max_cat_threshold=None,\n",
              "                                     max_cat_to_onehot=None,\n",
              "                                     max_delta_step=None, max_depth=None,\n",
              "                                     max_leaves=None, min_child_weight=None,\n",
              "                                     missing=nan, monotone_constraints=None,\n",
              "                                     multi_strategy=None, n_estimators=None,\n",
              "                                     n_jobs=None, num_parallel_tree=None,\n",
              "                                     random_state=42, ...),\n",
              "             param_grid={'learning_rate': [0.1, 0.01, 0.001],\n",
              "                         'max_depth': [3, 5, 7],\n",
              "                         'n_estimators': [100, 200, 300]},\n",
              "             scoring='accuracy')"
            ],
            "text/html": [
              "<style>#sk-container-id-3 {color: black;background-color: white;}#sk-container-id-3 pre{padding: 0;}#sk-container-id-3 div.sk-toggleable {background-color: white;}#sk-container-id-3 label.sk-toggleable__label {cursor: pointer;display: block;width: 100%;margin-bottom: 0;padding: 0.3em;box-sizing: border-box;text-align: center;}#sk-container-id-3 label.sk-toggleable__label-arrow:before {content: \"▸\";float: left;margin-right: 0.25em;color: #696969;}#sk-container-id-3 label.sk-toggleable__label-arrow:hover:before {color: black;}#sk-container-id-3 div.sk-estimator:hover label.sk-toggleable__label-arrow:before {color: black;}#sk-container-id-3 div.sk-toggleable__content {max-height: 0;max-width: 0;overflow: hidden;text-align: left;background-color: #f0f8ff;}#sk-container-id-3 div.sk-toggleable__content pre {margin: 0.2em;color: black;border-radius: 0.25em;background-color: #f0f8ff;}#sk-container-id-3 input.sk-toggleable__control:checked~div.sk-toggleable__content {max-height: 200px;max-width: 100%;overflow: auto;}#sk-container-id-3 input.sk-toggleable__control:checked~label.sk-toggleable__label-arrow:before {content: \"▾\";}#sk-container-id-3 div.sk-estimator input.sk-toggleable__control:checked~label.sk-toggleable__label {background-color: #d4ebff;}#sk-container-id-3 div.sk-label input.sk-toggleable__control:checked~label.sk-toggleable__label {background-color: #d4ebff;}#sk-container-id-3 input.sk-hidden--visually {border: 0;clip: rect(1px 1px 1px 1px);clip: rect(1px, 1px, 1px, 1px);height: 1px;margin: -1px;overflow: hidden;padding: 0;position: absolute;width: 1px;}#sk-container-id-3 div.sk-estimator {font-family: monospace;background-color: #f0f8ff;border: 1px dotted black;border-radius: 0.25em;box-sizing: border-box;margin-bottom: 0.5em;}#sk-container-id-3 div.sk-estimator:hover {background-color: #d4ebff;}#sk-container-id-3 div.sk-parallel-item::after {content: \"\";width: 100%;border-bottom: 1px solid gray;flex-grow: 1;}#sk-container-id-3 div.sk-label:hover label.sk-toggleable__label {background-color: #d4ebff;}#sk-container-id-3 div.sk-serial::before {content: \"\";position: absolute;border-left: 1px solid gray;box-sizing: border-box;top: 0;bottom: 0;left: 50%;z-index: 0;}#sk-container-id-3 div.sk-serial {display: flex;flex-direction: column;align-items: center;background-color: white;padding-right: 0.2em;padding-left: 0.2em;position: relative;}#sk-container-id-3 div.sk-item {position: relative;z-index: 1;}#sk-container-id-3 div.sk-parallel {display: flex;align-items: stretch;justify-content: center;background-color: white;position: relative;}#sk-container-id-3 div.sk-item::before, #sk-container-id-3 div.sk-parallel-item::before {content: \"\";position: absolute;border-left: 1px solid gray;box-sizing: border-box;top: 0;bottom: 0;left: 50%;z-index: -1;}#sk-container-id-3 div.sk-parallel-item {display: flex;flex-direction: column;z-index: 1;position: relative;background-color: white;}#sk-container-id-3 div.sk-parallel-item:first-child::after {align-self: flex-end;width: 50%;}#sk-container-id-3 div.sk-parallel-item:last-child::after {align-self: flex-start;width: 50%;}#sk-container-id-3 div.sk-parallel-item:only-child::after {width: 0;}#sk-container-id-3 div.sk-dashed-wrapped {border: 1px dashed gray;margin: 0 0.4em 0.5em 0.4em;box-sizing: border-box;padding-bottom: 0.4em;background-color: white;}#sk-container-id-3 div.sk-label label {font-family: monospace;font-weight: bold;display: inline-block;line-height: 1.2em;}#sk-container-id-3 div.sk-label-container {text-align: center;}#sk-container-id-3 div.sk-container {/* jupyter's `normalize.less` sets `[hidden] { display: none; }` but bootstrap.min.css set `[hidden] { display: none !important; }` so we also need the `!important` here to be able to override the default hidden behavior on the sphinx rendered scikit-learn.org. See: https://github.com/scikit-learn/scikit-learn/issues/21755 */display: inline-block !important;position: relative;}#sk-container-id-3 div.sk-text-repr-fallback {display: none;}</style><div id=\"sk-container-id-3\" class=\"sk-top-container\"><div class=\"sk-text-repr-fallback\"><pre>GridSearchCV(cv=3,\n",
              "             estimator=XGBClassifier(base_score=None, booster=None,\n",
              "                                     callbacks=None, colsample_bylevel=None,\n",
              "                                     colsample_bynode=None,\n",
              "                                     colsample_bytree=None, device=None,\n",
              "                                     early_stopping_rounds=None,\n",
              "                                     enable_categorical=False, eval_metric=None,\n",
              "                                     feature_types=None, gamma=None,\n",
              "                                     grow_policy=None, importance_type=None,\n",
              "                                     interaction_constraints=None,\n",
              "                                     learning_rate=None,...\n",
              "                                     max_cat_threshold=None,\n",
              "                                     max_cat_to_onehot=None,\n",
              "                                     max_delta_step=None, max_depth=None,\n",
              "                                     max_leaves=None, min_child_weight=None,\n",
              "                                     missing=nan, monotone_constraints=None,\n",
              "                                     multi_strategy=None, n_estimators=None,\n",
              "                                     n_jobs=None, num_parallel_tree=None,\n",
              "                                     random_state=42, ...),\n",
              "             param_grid={&#x27;learning_rate&#x27;: [0.1, 0.01, 0.001],\n",
              "                         &#x27;max_depth&#x27;: [3, 5, 7],\n",
              "                         &#x27;n_estimators&#x27;: [100, 200, 300]},\n",
              "             scoring=&#x27;accuracy&#x27;)</pre><b>In a Jupyter environment, please rerun this cell to show the HTML representation or trust the notebook. <br />On GitHub, the HTML representation is unable to render, please try loading this page with nbviewer.org.</b></div><div class=\"sk-container\" hidden><div class=\"sk-item sk-dashed-wrapped\"><div class=\"sk-label-container\"><div class=\"sk-label sk-toggleable\"><input class=\"sk-toggleable__control sk-hidden--visually\" id=\"sk-estimator-id-3\" type=\"checkbox\" ><label for=\"sk-estimator-id-3\" class=\"sk-toggleable__label sk-toggleable__label-arrow\">GridSearchCV</label><div class=\"sk-toggleable__content\"><pre>GridSearchCV(cv=3,\n",
              "             estimator=XGBClassifier(base_score=None, booster=None,\n",
              "                                     callbacks=None, colsample_bylevel=None,\n",
              "                                     colsample_bynode=None,\n",
              "                                     colsample_bytree=None, device=None,\n",
              "                                     early_stopping_rounds=None,\n",
              "                                     enable_categorical=False, eval_metric=None,\n",
              "                                     feature_types=None, gamma=None,\n",
              "                                     grow_policy=None, importance_type=None,\n",
              "                                     interaction_constraints=None,\n",
              "                                     learning_rate=None,...\n",
              "                                     max_cat_threshold=None,\n",
              "                                     max_cat_to_onehot=None,\n",
              "                                     max_delta_step=None, max_depth=None,\n",
              "                                     max_leaves=None, min_child_weight=None,\n",
              "                                     missing=nan, monotone_constraints=None,\n",
              "                                     multi_strategy=None, n_estimators=None,\n",
              "                                     n_jobs=None, num_parallel_tree=None,\n",
              "                                     random_state=42, ...),\n",
              "             param_grid={&#x27;learning_rate&#x27;: [0.1, 0.01, 0.001],\n",
              "                         &#x27;max_depth&#x27;: [3, 5, 7],\n",
              "                         &#x27;n_estimators&#x27;: [100, 200, 300]},\n",
              "             scoring=&#x27;accuracy&#x27;)</pre></div></div></div><div class=\"sk-parallel\"><div class=\"sk-parallel-item\"><div class=\"sk-item\"><div class=\"sk-label-container\"><div class=\"sk-label sk-toggleable\"><input class=\"sk-toggleable__control sk-hidden--visually\" id=\"sk-estimator-id-4\" type=\"checkbox\" ><label for=\"sk-estimator-id-4\" class=\"sk-toggleable__label sk-toggleable__label-arrow\">estimator: XGBClassifier</label><div class=\"sk-toggleable__content\"><pre>XGBClassifier(base_score=None, booster=None, callbacks=None,\n",
              "              colsample_bylevel=None, colsample_bynode=None,\n",
              "              colsample_bytree=None, device=None, early_stopping_rounds=None,\n",
              "              enable_categorical=False, eval_metric=None, feature_types=None,\n",
              "              gamma=None, grow_policy=None, importance_type=None,\n",
              "              interaction_constraints=None, learning_rate=None, max_bin=None,\n",
              "              max_cat_threshold=None, max_cat_to_onehot=None,\n",
              "              max_delta_step=None, max_depth=None, max_leaves=None,\n",
              "              min_child_weight=None, missing=nan, monotone_constraints=None,\n",
              "              multi_strategy=None, n_estimators=None, n_jobs=None,\n",
              "              num_parallel_tree=None, random_state=42, ...)</pre></div></div></div><div class=\"sk-serial\"><div class=\"sk-item\"><div class=\"sk-estimator sk-toggleable\"><input class=\"sk-toggleable__control sk-hidden--visually\" id=\"sk-estimator-id-5\" type=\"checkbox\" ><label for=\"sk-estimator-id-5\" class=\"sk-toggleable__label sk-toggleable__label-arrow\">XGBClassifier</label><div class=\"sk-toggleable__content\"><pre>XGBClassifier(base_score=None, booster=None, callbacks=None,\n",
              "              colsample_bylevel=None, colsample_bynode=None,\n",
              "              colsample_bytree=None, device=None, early_stopping_rounds=None,\n",
              "              enable_categorical=False, eval_metric=None, feature_types=None,\n",
              "              gamma=None, grow_policy=None, importance_type=None,\n",
              "              interaction_constraints=None, learning_rate=None, max_bin=None,\n",
              "              max_cat_threshold=None, max_cat_to_onehot=None,\n",
              "              max_delta_step=None, max_depth=None, max_leaves=None,\n",
              "              min_child_weight=None, missing=nan, monotone_constraints=None,\n",
              "              multi_strategy=None, n_estimators=None, n_jobs=None,\n",
              "              num_parallel_tree=None, random_state=42, ...)</pre></div></div></div></div></div></div></div></div></div></div>"
            ]
          },
          "metadata": {},
          "execution_count": 47
        }
      ]
    },
    {
      "cell_type": "code",
      "source": [
        "print(\"Tuned Parameter:\", grid_search.best_params_)"
      ],
      "metadata": {
        "colab": {
          "base_uri": "https://localhost:8080/"
        },
        "id": "HbgUgMqUNaL_",
        "outputId": "d1850917-1f57-4f38-885f-1914e86e7488"
      },
      "execution_count": null,
      "outputs": [
        {
          "output_type": "stream",
          "name": "stdout",
          "text": [
            "Tuned Parameter: {'learning_rate': 0.1, 'max_depth': 3, 'n_estimators': 200}\n"
          ]
        }
      ]
    },
    {
      "cell_type": "code",
      "source": [
        "c\n",
        "model_xgb_best = xgb.XGBClassifier(objective='binary:logistic',learning_rate= 0.1, max_depth= 3, n_estimators= 200, random_state=42)\n",
        "\n",
        "# Melatih model\n",
        "model_xgb_best.fit(X_train, y_train)\n",
        "\n",
        "# Memprediksi data uji\n",
        "y_pred = model_xgb_best.predict(X_test)"
      ],
      "metadata": {
        "id": "bhknXSJZNaIf"
      },
      "execution_count": null,
      "outputs": []
    },
    {
      "cell_type": "code",
      "source": [
        "print('\\nClassification Report Best XGB\\n')\n",
        "print(classification_report(y_test, y_pred))"
      ],
      "metadata": {
        "colab": {
          "base_uri": "https://localhost:8080/"
        },
        "id": "OpAzYa_8PDjW",
        "outputId": "ecedd242-ec47-4a03-e50f-ce6b4a0c9bb9"
      },
      "execution_count": null,
      "outputs": [
        {
          "output_type": "stream",
          "name": "stdout",
          "text": [
            "\n",
            "Classification Report Best XGB\n",
            "\n",
            "              precision    recall  f1-score   support\n",
            "\n",
            "           0       0.88      0.95      0.91      6482\n",
            "           1       0.73      0.54      0.62      1770\n",
            "\n",
            "    accuracy                           0.86      8252\n",
            "   macro avg       0.81      0.74      0.77      8252\n",
            "weighted avg       0.85      0.86      0.85      8252\n",
            "\n"
          ]
        }
      ]
    },
    {
      "cell_type": "code",
      "source": [
        "from sklearn.metrics import roc_auc_score\n",
        "\n",
        "y_pred_proba = model_xgb_best.predict_proba(X_test)[:, 1]\n",
        "auc_score = roc_auc_score(y_test, y_pred_proba)\n",
        "print(\"Nilai AUC:\", auc_score)"
      ],
      "metadata": {
        "colab": {
          "base_uri": "https://localhost:8080/"
        },
        "id": "cmSiJ8PSR9YI",
        "outputId": "6c909a76-f044-4150-cc05-5daad1516486"
      },
      "execution_count": null,
      "outputs": [
        {
          "output_type": "stream",
          "name": "stdout",
          "text": [
            "Nilai AUC: 0.8889797823438046\n"
          ]
        }
      ]
    },
    {
      "cell_type": "code",
      "source": [
        "import matplotlib.pyplot as plt\n",
        "from sklearn.metrics import roc_curve, auc\n",
        "\n",
        "y_pred_proba = model_xgb_best.predict_proba(X_test)[:, 1]\n",
        "fpr, tpr, thresholds = roc_curve(y_test, y_pred_proba)\n",
        "roc_auc = auc(fpr, tpr)\n",
        "\n",
        "plt.figure()\n",
        "plt.plot(fpr, tpr, color='darkorange', lw=2, label='ROC curve (area = %0.2f)' % roc_auc)\n",
        "plt.plot([0, 1], [0, 1], color='navy', lw=2, linestyle='--')\n",
        "plt.xlim([0.0, 1.0])\n",
        "plt.ylim([0.0, 1.05])\n",
        "plt.xlabel('False Positive Rate')\n",
        "plt.ylabel('True Positive Rate')\n",
        "plt.title('Receiver Operating Characteristic (ROC)')\n",
        "plt.legend(loc=\"lower right\")\n",
        "plt.show()"
      ],
      "metadata": {
        "colab": {
          "base_uri": "https://localhost:8080/",
          "height": 472
        },
        "id": "UBQ7Qvt7R9bj",
        "outputId": "70b9b1e3-2900-41ba-9ead-6c969dcf6ad3"
      },
      "execution_count": null,
      "outputs": [
        {
          "output_type": "display_data",
          "data": {
            "text/plain": [
              "<Figure size 640x480 with 1 Axes>"
            ],
            "image/png": "[encoded data removed]"
          },
          "metadata": {}
        }
      ]
    },
    {
      "cell_type": "markdown",
      "source": [
        "![image.png](data:image/png;base64,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)"
      ],
      "metadata": {
        "id": "XC0h69UXTA6G"
      }
    },
    {
      "cell_type": "markdown",
      "source": [
        "#Model Analysis :"
      ],
      "metadata": {
        "id": "BI-mGoCNTDBO"
      }
    },
    {
      "cell_type": "markdown",
      "source": [
        "Model Selection :     \n",
        "Untuk pemilihan model sebenarnya tergantung pada kebutuhan dari case masing-masing. Pemilihan dapat dilihat berdasarkan performance metrics seperti accuracy, recall, dan precision. Seperti yang sudah dikatakan tadi bahwa ketiga model memiliki accuracy yang tidak jauh berbeda dan seluruhnya tergolong baik. Akan tetapi selain dari accuracy, perlu diperhatikan juga rate dari precision dan recall nya. Nilai precision yang tinggi dibutuhkan untuk meminimalisir segala prediksi dari model kita yang bernilai positif, akan tetapi pada kenyataanya bernilai negative (False Positive), sedangkan rate recall yang tinggi digunakan untuk meminimalisir nilai yang kita prediksi bernilai negative, akan tetapi pada kenyataanya bernilai positif (False Negative).\n",
        "\n",
        "Pemilihan metric Precision ataupun Recall dapat dipertimbangkan dalam beberapa hal yang menjadi concern pemilihan metric. Pemilihan ini tergantung pada objectif pihak bank. Misalnya :\n",
        "1. Jika tingkat pelanggan yang churn tinggi (relatif dari masing-masing bank), saya akan memilih untuk memaksimalkan recall. Ini akan memastikan bahwa model menemukan sebagian besar pelanggan yang benar-benar akan churn, bahkan jika itu berarti ada beberapa false positive. Dengan ini pihak bank dapat menemukan strategi untuk menekan angka churn tersebut dengan meilihat pola pola pelanggan yang churn.\n",
        "\n",
        "2. Jika sumber daya untuk retensi terbatas dan pihak bank ingin memastikan bahwa setiap upaya yang dilakukan memiliki dampak yang signifikan, saya lebih memilih untuk memaksimalkan precision. Ini akan meminimalkan jumlah pelanggan yang salah dianggap sebagai calon churn, sehingga Anda dapat mengalokasikan sumber daya dengan lebih efisien.\n",
        "\n",
        "Dalam case Churn Bank yang saya gunakan saya harus mempertimbangkan keduanya karena model yang ingin saya bangun harus dapat mengurangi false negative dimana model gagal memprediksi bahwa seorang pelanggan akan churn tetapi sebenarnya pelanggan tersebut tidak churn maupun false positif dimana model gagal memprediksi bahwa seorang pelanggan tidak churn tetapi sebenarnya pelanggan tersebut churn. Metric yang dapat menggambarkan kedua nilai ini adalah F1 Score.\n",
        "\n",
        "Jika dilihat memang kedua model yang telah di tuning ini memiliki performa yang kurang lebih sama baiknya. Kedua model baik XGBoost maupun Random Forest menunjukan performa yang baik dari nilai AUC (88%) nya yang berarti model tidak secara kebetulan benar dalam melakukan prediksi. Karena dalam dataset terdapat imbalance data dimana data pelanggan churn jauh lebih sedikit daripada data pelanggan tetap, maka saya tidak bisa menggunakan nilai akurasi sebagai acuan karena dapat mengakibatkan missleading. F1 score dari model XGBoost memiliki performa yang lebih baik sebesar 1% dari model Random Forest. karena saya lebih mengacu pada pendekatan F1 score sebagai metric evaluasi maka XGBoost **saya lebih prefer untuk memilih model XGBoost** daripada Random Forest secara performanya terhadap data testing."
      ],
      "metadata": {
        "id": "c-yHqxPyUANT"
      }
    },
    {
      "cell_type": "markdown",
      "source": [
        "Save Model as a Pickle"
      ],
      "metadata": {
        "id": "n7c4ByFaPnX7"
      }
    },
    {
      "cell_type": "code",
      "source": [
        "import pickle as pkl\n",
        "filename = 'BestModel_XGB.pkl'\n",
        "pkl.dump(model_xgb_best, open(filename, 'wb'))"
      ],
      "metadata": {
        "id": "qwA-C7imPnkW"
      },
      "execution_count": null,
      "outputs": []
    }
  ]
}